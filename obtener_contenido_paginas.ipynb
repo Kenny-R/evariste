{
 "cells": [
  {
   "cell_type": "markdown",
   "metadata": {},
   "source": [
    "# Zona de importación"
   ]
  },
  {
   "cell_type": "code",
   "execution_count": null,
   "metadata": {},
   "outputs": [],
   "source": [
    "import os\n",
    "from textExtract import extract_pages_info"
   ]
  },
  {
   "cell_type": "markdown",
   "metadata": {},
   "source": [
    "# Zona de ejecución"
   ]
  },
  {
   "cell_type": "markdown",
   "metadata": {},
   "source": [
    "## Guardamos las paginas de los paises de wikipedia"
   ]
  },
  {
   "cell_type": "markdown",
   "metadata": {},
   "source": [
    "Indicamos la dirección de la carpeta donde se guardaran todos los archivos con el contenido de la paginas de wikipedia"
   ]
  },
  {
   "cell_type": "code",
   "execution_count": null,
   "metadata": {},
   "outputs": [],
   "source": [
    "direccion_carpeta = 'resultados/paises_wikipedia'\n",
    "\n",
    "if os.path.isdir(direccion_carpeta) == False:\n",
    "    os.mkdir(direccion_carpeta)"
   ]
  },
  {
   "cell_type": "markdown",
   "metadata": {},
   "source": [
    "Obtenemos el contenido y lo guardamos en un diccionario cuyas claves son el nombre de la pagina y el valor es el contenido de la misma"
   ]
  },
  {
   "cell_type": "code",
   "execution_count": null,
   "metadata": {},
   "outputs": [],
   "source": [
    "print('##############################################################')\n",
    "print('Comenzando el proceso de obtención del contenido de las paginas')\n",
    "contenido_por_pais = extract_pages_info('ignorar/wikipedia_paises.csv')\n",
    "print('Finalizado el proceso de obtencion del contenido de las paginas')\n",
    "print('##############################################################')"
   ]
  },
  {
   "cell_type": "markdown",
   "metadata": {},
   "source": [
    "Almacenamos el contenido de las paginas en archivos de texto por separado"
   ]
  },
  {
   "cell_type": "code",
   "execution_count": null,
   "metadata": {},
   "outputs": [],
   "source": [
    "total = len(contenido_por_pais)\n",
    "contador = 1\n",
    "for pais, contenido in contenido_por_pais.items():\n",
    "    print(f'Estoy en el pais {pais}. Progreso {contador}/{total}')\n",
    "    print(' '.join(contenido),file=open(os.path.join(direccion_carpeta,f'{pais}.txt'),'w'))\n",
    "    contador += 1"
   ]
  },
  {
   "cell_type": "markdown",
   "metadata": {},
   "source": [
    "## Guardamos las paginas de los paises de wikivoyage"
   ]
  },
  {
   "cell_type": "markdown",
   "metadata": {},
   "source": [
    "Indicamos la dirección de la carpeta donde se guardaran todos los archivos con el contenido de la paginas de wikipedia"
   ]
  },
  {
   "cell_type": "code",
   "execution_count": null,
   "metadata": {},
   "outputs": [],
   "source": [
    "direccion_carpeta = 'resultados/paises_wikivoyage'\n",
    "\n",
    "if os.path.isdir(direccion_carpeta) == False:\n",
    "    os.mkdir(direccion_carpeta)"
   ]
  },
  {
   "cell_type": "markdown",
   "metadata": {},
   "source": [
    "Obtenemos el contenido y lo guardamos en un diccionario cuyas claves son el nombre de la pagina y el valor es el contenido de la misma"
   ]
  },
  {
   "cell_type": "code",
   "execution_count": null,
   "metadata": {},
   "outputs": [],
   "source": [
    "print('##############################################################')\n",
    "print('Comenzando el proceso de obtención del contenido de las paginas')\n",
    "contenido_por_pais = extract_pages_info('ignorar/wikivoyage_paises.csv', content_xpath = '//div[@class=\"mw-content-ltr mw-parser-output\"]')\n",
    "print('Finalizado el proceso de obtencion del contenido de las paginas')\n",
    "print('##############################################################')"
   ]
  },
  {
   "cell_type": "markdown",
   "metadata": {},
   "source": [
    "Almacenamos el contenido de las paginas en archivos de texto por separado"
   ]
  },
  {
   "cell_type": "code",
   "execution_count": null,
   "metadata": {},
   "outputs": [],
   "source": [
    "total = len(contenido_por_pais)\n",
    "contador = 1\n",
    "for pais, contenido in contenido_por_pais.items():\n",
    "    print(f'Estoy en el pais {pais}. Progreso {contador}/{total}')\n",
    "    print(' '.join(contenido),file=open(os.path.join(direccion_carpeta,f'{pais}.txt'),'w'))\n",
    "    contador += 1"
   ]
  }
 ],
 "metadata": {
  "kernelspec": {
   "display_name": "env",
   "language": "python",
   "name": "python3"
  },
  "language_info": {
   "codemirror_mode": {
    "name": "ipython",
    "version": 3
   },
   "file_extension": ".py",
   "mimetype": "text/x-python",
   "name": "python",
   "nbconvert_exporter": "python",
   "pygments_lexer": "ipython3",
   "version": "3.10.12"
  }
 },
 "nbformat": 4,
 "nbformat_minor": 2
}
