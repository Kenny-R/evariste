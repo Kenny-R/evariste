{
 "cells": [
  {
   "cell_type": "code",
   "execution_count": 1,
   "metadata": {},
   "outputs": [],
   "source": [
    "import os\n",
    "from embeddings import *"
   ]
  },
  {
   "cell_type": "code",
   "execution_count": 3,
   "metadata": {},
   "outputs": [],
   "source": [
    "# carpeta = os.path.join('resultados', 'paises_wikivoyage')\n",
    "carpeta = os.path.join('resultados', 'archivos_embeddings')\n",
    "archivos = [os.path.join(carpeta, archivo) for archivo in os.listdir(carpeta)]"
   ]
  },
  {
   "cell_type": "code",
   "execution_count": 4,
   "metadata": {},
   "outputs": [],
   "source": [
    "# Cargamos el modelo de embeddings\n",
    "\n",
    "modelPath = \"thenlper/gte-large\"\n",
    "\n",
    "model_kwargs = {'device':'cpu'}\n",
    "\n",
    "encode_kwargs = {'normalize_embeddings': False}\n",
    "\n",
    "embeddings = HuggingFaceEmbeddings(\n",
    "    model_name=modelPath,     # Provide the pre-trained model's path\n",
    "    model_kwargs=model_kwargs, # Pass the model configuration options\n",
    "    encode_kwargs=encode_kwargs # Pass the encoding options\n",
    ")"
   ]
  },
  {
   "cell_type": "code",
   "execution_count": 13,
   "metadata": {},
   "outputs": [],
   "source": [
    "docs = dividir_archivos(archivos)\n",
    "db = crear_bd_faiss(docs,embeddings,'./emmbeddings_db', 'query_asia')"
   ]
  },
  {
   "cell_type": "code",
   "execution_count": 14,
   "metadata": {},
   "outputs": [],
   "source": [
    "db = cargar_embeddings('./emmbeddings_db', 'query_asia', embeddings)"
   ]
  },
  {
   "cell_type": "code",
   "execution_count": 15,
   "metadata": {},
   "outputs": [],
   "source": [
    "db1 = cargar_embeddings('./emmbeddings_db', 'prueba', embeddings)\n",
    "db2 = cargar_embeddings('./emmbeddings_db', 'query_asia', embeddings)\n",
    "db1.merge_from(db2)\n",
    "db1.save_local(folder_path='./emmbeddings_db', index_name='prueba_query_asia')"
   ]
  }
 ],
 "metadata": {
  "kernelspec": {
   "display_name": "env",
   "language": "python",
   "name": "python3"
  },
  "language_info": {
   "codemirror_mode": {
    "name": "ipython",
    "version": 3
   },
   "file_extension": ".py",
   "mimetype": "text/x-python",
   "name": "python",
   "nbconvert_exporter": "python",
   "pygments_lexer": "ipython3",
   "version": "3.10.14"
  }
 },
 "nbformat": 4,
 "nbformat_minor": 2
}
