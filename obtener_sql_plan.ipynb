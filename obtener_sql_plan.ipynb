{
 "cells": [
  {
   "cell_type": "markdown",
   "metadata": {},
   "source": [
    "# Librerias Necesarias"
   ]
  },
  {
   "cell_type": "code",
   "execution_count": 5,
   "metadata": {},
   "outputs": [],
   "source": [
    "import pandas as pd\n",
    "from os import mkdir\n",
    "from galois.utils import *\n",
    "from galois.QueryTree import *\n",
    "from os.path import isfile, isdir"
   ]
  },
  {
   "cell_type": "code",
   "execution_count": 6,
   "metadata": {},
   "outputs": [],
   "source": [
    "def obtener_sql_plan(bd:str, verbose:bool, query:str) -> str: \n",
    "    con = run_db(bd)\n",
    "    con.execute(\"PRAGMA enable_profiling='query_tree';\")\n",
    "    con.execute(\"PRAGMA explain_output='ALL';\")\n",
    "\n",
    "    con.execute(\"EXPLAIN \"+query.replace('\"',\"'\"))\n",
    "    s = con.fetchall()[0][1].split('\\n')\n",
    "    if verbose:\n",
    "        print(\"\\n\".join(s))\n",
    "        print('\\n')\n",
    "    root = parse_query_tree(s)\n",
    "    \n",
    "    return \"\\n\".join(s)"
   ]
  },
  {
   "cell_type": "markdown",
   "metadata": {},
   "source": [
    "# Obtener el plan de un solo query"
   ]
  },
  {
   "cell_type": "code",
   "execution_count": 8,
   "metadata": {},
   "outputs": [
    {
     "ename": "CatalogException",
     "evalue": "Catalog Error: Table with name airports does not exist!\nDid you mean \"information_schema.tables\"?\nLINE 1: EXPLAIN SELECT name FROM airports WHERE elevation BETWEEN -50 AN...\n                                 ^",
     "output_type": "error",
     "traceback": [
      "\u001b[1;31m---------------------------------------------------------------------------\u001b[0m",
      "\u001b[1;31mCatalogException\u001b[0m                          Traceback (most recent call last)",
      "Cell \u001b[1;32mIn[8], line 1\u001b[0m\n\u001b[1;32m----> 1\u001b[0m \u001b[38;5;28mprint\u001b[39m(\u001b[43mobtener_sql_plan\u001b[49m\u001b[43m(\u001b[49m\u001b[38;5;124;43m\"\u001b[39;49m\u001b[38;5;124;43mdata/spider_files/spider/database/flight_4/flight_4.sqlite\u001b[39;49m\u001b[38;5;124;43m\"\u001b[39;49m\u001b[43m,\u001b[49m\u001b[43m \u001b[49m\n\u001b[0;32m      2\u001b[0m \u001b[43m                 \u001b[49m\u001b[38;5;28;43;01mFalse\u001b[39;49;00m\u001b[43m,\u001b[49m\u001b[43m \u001b[49m\n\u001b[0;32m      3\u001b[0m \u001b[43m                 \u001b[49m\u001b[38;5;124;43m\"\u001b[39;49m\u001b[38;5;124;43mSELECT name FROM airports WHERE elevation BETWEEN -50 AND 50\u001b[39;49m\u001b[38;5;124;43m\"\u001b[39;49m\u001b[43m)\u001b[49m\u001b[38;5;241m.\u001b[39mreplace(\u001b[38;5;124m\"\u001b[39m\u001b[38;5;130;01m\\n\u001b[39;00m\u001b[38;5;124m\"\u001b[39m,\u001b[38;5;124m\"\u001b[39m\u001b[38;5;130;01m\\n\u001b[39;00m\u001b[38;5;130;01m\\n\u001b[39;00m\u001b[38;5;124m\"\u001b[39m))\n",
      "Cell \u001b[1;32mIn[6], line 6\u001b[0m, in \u001b[0;36mobtener_sql_plan\u001b[1;34m(bd, verbose, query)\u001b[0m\n\u001b[0;32m      3\u001b[0m con\u001b[38;5;241m.\u001b[39mexecute(\u001b[38;5;124m\"\u001b[39m\u001b[38;5;124mPRAGMA enable_profiling=\u001b[39m\u001b[38;5;124m'\u001b[39m\u001b[38;5;124mquery_tree\u001b[39m\u001b[38;5;124m'\u001b[39m\u001b[38;5;124m;\u001b[39m\u001b[38;5;124m\"\u001b[39m)\n\u001b[0;32m      4\u001b[0m con\u001b[38;5;241m.\u001b[39mexecute(\u001b[38;5;124m\"\u001b[39m\u001b[38;5;124mPRAGMA explain_output=\u001b[39m\u001b[38;5;124m'\u001b[39m\u001b[38;5;124mALL\u001b[39m\u001b[38;5;124m'\u001b[39m\u001b[38;5;124m;\u001b[39m\u001b[38;5;124m\"\u001b[39m)\n\u001b[1;32m----> 6\u001b[0m \u001b[43mcon\u001b[49m\u001b[38;5;241;43m.\u001b[39;49m\u001b[43mexecute\u001b[49m\u001b[43m(\u001b[49m\u001b[38;5;124;43m\"\u001b[39;49m\u001b[38;5;124;43mEXPLAIN \u001b[39;49m\u001b[38;5;124;43m\"\u001b[39;49m\u001b[38;5;241;43m+\u001b[39;49m\u001b[43mquery\u001b[49m\u001b[38;5;241;43m.\u001b[39;49m\u001b[43mreplace\u001b[49m\u001b[43m(\u001b[49m\u001b[38;5;124;43m'\u001b[39;49m\u001b[38;5;124;43m\"\u001b[39;49m\u001b[38;5;124;43m'\u001b[39;49m\u001b[43m,\u001b[49m\u001b[38;5;124;43m\"\u001b[39;49m\u001b[38;5;124;43m'\u001b[39;49m\u001b[38;5;124;43m\"\u001b[39;49m\u001b[43m)\u001b[49m\u001b[43m)\u001b[49m\n\u001b[0;32m      7\u001b[0m s \u001b[38;5;241m=\u001b[39m con\u001b[38;5;241m.\u001b[39mfetchall()[\u001b[38;5;241m0\u001b[39m][\u001b[38;5;241m1\u001b[39m]\u001b[38;5;241m.\u001b[39msplit(\u001b[38;5;124m'\u001b[39m\u001b[38;5;130;01m\\n\u001b[39;00m\u001b[38;5;124m'\u001b[39m)\n\u001b[0;32m      8\u001b[0m \u001b[38;5;28;01mif\u001b[39;00m verbose:\n",
      "\u001b[1;31mCatalogException\u001b[0m: Catalog Error: Table with name airports does not exist!\nDid you mean \"information_schema.tables\"?\nLINE 1: EXPLAIN SELECT name FROM airports WHERE elevation BETWEEN -50 AN...\n                                 ^"
     ]
    }
   ],
   "source": [
    "print(obtener_sql_plan(\"data/spider_files/spider/database/world_1/world_1.sqlite\", \n",
    "                 False, \n",
    "                 \"select distinct t3.name from country as t1 join countrylanguage as t2 on t1.code = t2.countrycode join city as t3 on t1.code = t3.countrycode where t2.isofficial = 't' and t2.language = 'chinese' and t1.continent = 'asia'\").replace(\"\\n\",\"\\n\\n\"))"
   ]
  },
  {
   "cell_type": "markdown",
   "metadata": {},
   "source": [
    "# Obtener planes de varios queries"
   ]
  },
  {
   "cell_type": "code",
   "execution_count": 5,
   "metadata": {},
   "outputs": [
    {
     "name": "stdout",
     "output_type": "stream",
     "text": [
      "cannot access local variable 'text' where it is not associated with a value\n",
      "cannot access local variable 'text' where it is not associated with a value\n",
      "cannot access local variable 'text' where it is not associated with a value\n",
      "cannot access local variable 'text' where it is not associated with a value\n",
      "cannot access local variable 'text' where it is not associated with a value\n",
      "cannot access local variable 'text' where it is not associated with a value\n",
      "cannot access local variable 'text' where it is not associated with a value\n",
      "cannot access local variable 'text' where it is not associated with a value\n",
      "cannot access local variable 'text' where it is not associated with a value\n",
      "cannot access local variable 'text' where it is not associated with a value\n",
      "cannot access local variable 'text' where it is not associated with a value\n"
     ]
    }
   ],
   "source": [
    "# creamos el archivo de salida\n",
    "nombre_archivo_salida = './resultados/planes'\n",
    "\n",
    "# vemos si la carpeta de resultados existe\n",
    "if not isdir('./resultados/'):\n",
    "    mkdir('./resultados')\n",
    "\n",
    "# Si el archivo existe modificamos el nombre\n",
    "while True:\n",
    "    if isfile(f'./{nombre_archivo_salida}.md'):\n",
    "        nombre_archivo_salida += '_copy'\n",
    "    else:\n",
    "        nombre_archivo_salida += '.md'\n",
    "        break\n",
    "\n",
    "nombre_archivo_queries = 'Final_Queries.csv'\n",
    "\n",
    "# creamos el archivo de salida\n",
    "with open(nombre_archivo_salida,'w') as archivo_salida:\n",
    "    # abrimos el archivo con todas las queries\n",
    "    df = pd.read_csv(nombre_archivo_queries, sep=',')\n",
    "\n",
    "    for i, fila in df.iterrows():\n",
    "        try:\n",
    "            plan = obtener_sql_plan(db_files[fila.loc['Database']],\n",
    "                                    False,\n",
    "                                    fila.loc['Query'])\n",
    "            \n",
    "            archivo_salida.write(f'# Query #{i+1}\\n## Query\\n```SQL\\n{fila.loc[\"Query\"]}\\n```\\n## Question\\n{fila.loc[\"Question\"]}\\n## Plan\\n```\\n{plan}```\\n\\n')\n",
    "        except Exception as err:\n",
    "            print(err)\n",
    "            continue\n"
   ]
  }
 ],
 "metadata": {
  "kernelspec": {
   "display_name": "env",
   "language": "python",
   "name": "python3"
  },
  "language_info": {
   "codemirror_mode": {
    "name": "ipython",
    "version": 3
   },
   "file_extension": ".py",
   "mimetype": "text/x-python",
   "name": "python",
   "nbconvert_exporter": "python",
   "pygments_lexer": "ipython3",
   "version": "3.10.14"
  }
 },
 "nbformat": 4,
 "nbformat_minor": 2
}
