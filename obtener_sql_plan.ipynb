{
 "cells": [
  {
   "cell_type": "markdown",
   "metadata": {},
   "source": [
    "# Librerias Necesarias"
   ]
  },
  {
   "cell_type": "code",
   "execution_count": 2,
   "metadata": {},
   "outputs": [],
   "source": [
    "import pandas as pd\n",
    "from os import mkdir\n",
    "from galois.utils import *\n",
    "from galois.QueryTree import *\n",
    "from os.path import isfile, isdir"
   ]
  },
  {
   "cell_type": "code",
   "execution_count": 11,
   "metadata": {},
   "outputs": [],
   "source": [
    "def obtener_sql_plan(bd:str, verbose:bool, query:str) -> str: \n",
    "    con = run_db(bd)\n",
    "    con.execute(\"PRAGMA enable_profiling='query_tree';\")\n",
    "    con.execute(\"PRAGMA explain_output='ALL';\")\n",
    "\n",
    "    con.execute(\"EXPLAIN \"+query.replace('\"',\"'\"))\n",
    "    s = con.fetchall()[0][1].split('\\n')\n",
    "    if verbose:\n",
    "        print(\"\\n\".join(s))\n",
    "        print('\\n')\n",
    "    root = parse_query_tree(s)\n",
    "    \n",
    "    return \"\\n\".join(s)"
   ]
  },
  {
   "cell_type": "markdown",
   "metadata": {},
   "source": [
    "# Obtener el plan de un solo query"
   ]
  },
  {
   "cell_type": "code",
   "execution_count": 12,
   "metadata": {},
   "outputs": [
    {
     "name": "stdout",
     "output_type": "stream",
     "text": [
      "┌───────────────────────────┐\n",
      "\n",
      "│         PROJECTION        │\n",
      "\n",
      "│   ─ ─ ─ ─ ─ ─ ─ ─ ─ ─ ─   │\n",
      "\n",
      "│            name           │\n",
      "\n",
      "└─────────────┬─────────────┘                             \n",
      "\n",
      "┌─────────────┴─────────────┐\n",
      "\n",
      "│           FILTER          │\n",
      "\n",
      "│   ─ ─ ─ ─ ─ ─ ─ ─ ─ ─ ─   │\n",
      "\n",
      "│ (elevation >= CAST(-50 AS │\n",
      "\n",
      "│          BIGINT))         │\n",
      "\n",
      "│  (elevation <= CAST(50 AS │\n",
      "\n",
      "│          BIGINT))         │\n",
      "\n",
      "└─────────────┬─────────────┘                             \n",
      "\n",
      "┌─────────────┴─────────────┐\n",
      "\n",
      "│          SEQ_SCAN         │\n",
      "\n",
      "│   ─ ─ ─ ─ ─ ─ ─ ─ ─ ─ ─   │\n",
      "\n",
      "│          airports         │\n",
      "\n",
      "└───────────────────────────┘                             \n",
      "\n",
      "\n"
     ]
    }
   ],
   "source": [
    "print(obtener_sql_plan(\"data/spider_files/spider/database/flight_4/flight_4.sqlite\", \n",
    "                 False, \n",
    "                 \"SELECT name FROM airports WHERE elevation BETWEEN -50 AND 50\").replace(\"\\n\",\"\\n\\n\"))"
   ]
  },
  {
   "cell_type": "markdown",
   "metadata": {},
   "source": [
    "# Obtener planes de varios queries"
   ]
  },
  {
   "cell_type": "code",
   "execution_count": 5,
   "metadata": {},
   "outputs": [
    {
     "name": "stdout",
     "output_type": "stream",
     "text": [
      "cannot access local variable 'text' where it is not associated with a value\n",
      "cannot access local variable 'text' where it is not associated with a value\n",
      "cannot access local variable 'text' where it is not associated with a value\n",
      "cannot access local variable 'text' where it is not associated with a value\n",
      "cannot access local variable 'text' where it is not associated with a value\n",
      "cannot access local variable 'text' where it is not associated with a value\n",
      "cannot access local variable 'text' where it is not associated with a value\n",
      "cannot access local variable 'text' where it is not associated with a value\n",
      "cannot access local variable 'text' where it is not associated with a value\n",
      "cannot access local variable 'text' where it is not associated with a value\n",
      "cannot access local variable 'text' where it is not associated with a value\n"
     ]
    }
   ],
   "source": [
    "# creamos el archivo de salida\n",
    "nombre_archivo_salida = './resultados/planes'\n",
    "\n",
    "# vemos si la carpeta de resultados existe\n",
    "if not isdir('./resultados/'):\n",
    "    mkdir('./resultados')\n",
    "\n",
    "# Si el archivo existe modificamos el nombre\n",
    "while True:\n",
    "    if isfile(f'./{nombre_archivo_salida}.md'):\n",
    "        nombre_archivo_salida += '_copy'\n",
    "    else:\n",
    "        nombre_archivo_salida += '.md'\n",
    "        break\n",
    "\n",
    "nombre_archivo_queries = 'Final_Queries.csv'\n",
    "\n",
    "# creamos el archivo de salida\n",
    "with open(nombre_archivo_salida,'w') as archivo_salida:\n",
    "    # abrimos el archivo con todas las queries\n",
    "    df = pd.read_csv(nombre_archivo_queries, sep=',')\n",
    "\n",
    "    for i, fila in df.iterrows():\n",
    "        try:\n",
    "            plan = obtener_sql_plan(db_files[fila.loc['Database']],\n",
    "                                    False,\n",
    "                                    fila.loc['Query'])\n",
    "            \n",
    "            archivo_salida.write(f'# Query #{i+1}\\n## Query\\n```SQL\\n{fila.loc[\"Query\"]}\\n```\\n## Question\\n{fila.loc[\"Question\"]}\\n## Plan\\n```\\n{plan}```\\n\\n')\n",
    "        except Exception as err:\n",
    "            print(err)\n",
    "            continue\n"
   ]
  }
 ],
 "metadata": {
  "kernelspec": {
   "display_name": "env",
   "language": "python",
   "name": "python3"
  },
  "language_info": {
   "codemirror_mode": {
    "name": "ipython",
    "version": 3
   },
   "file_extension": ".py",
   "mimetype": "text/x-python",
   "name": "python",
   "nbconvert_exporter": "python",
   "pygments_lexer": "ipython3",
   "version": "3.11.5"
  }
 },
 "nbformat": 4,
 "nbformat_minor": 2
}
