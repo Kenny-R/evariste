{
 "cells": [
  {
   "cell_type": "markdown",
   "metadata": {},
   "source": [
    "# Librerias Necesarias"
   ]
  },
  {
   "cell_type": "code",
   "execution_count": 1,
   "metadata": {},
   "outputs": [],
   "source": [
    "# Librerias externas\n",
    "import json\n",
    "import openai\n",
    "import pandas as pd\n",
    "\n",
    "from galois.chatgpt_galois import *\n",
    "from galois.QueryTree import *\n",
    "from galois.utils import *"
   ]
  },
  {
   "cell_type": "markdown",
   "metadata": {},
   "source": [
    "# Funciones necesarias"
   ]
  },
  {
   "cell_type": "code",
   "execution_count": 2,
   "metadata": {},
   "outputs": [],
   "source": [
    "def obtener_sql_plan(bd:str, verbose:bool, query:str) -> Node: \n",
    "    con = run_db(bd)\n",
    "    con.execute(\"PRAGMA enable_profiling='query_tree';\")\n",
    "    con.execute(\"PRAGMA explain_output='ALL';\")\n",
    "\n",
    "    con.execute(\"EXPLAIN \"+query.replace('\"',\"'\"))\n",
    "    s = con.fetchall()[0][1].split('\\n')\n",
    "    if verbose:\n",
    "        print(\"\\n\".join(s))\n",
    "        print('\\n')\n",
    "    root = parse_query_tree(s)\n",
    "    \n",
    "    return root"
   ]
  },
  {
   "cell_type": "markdown",
   "metadata": {},
   "source": [
    "# Diccionario de queries para probar"
   ]
  },
  {
   "cell_type": "code",
   "execution_count": 8,
   "metadata": {},
   "outputs": [],
   "source": [
    "join_query_trees={}\n",
    "c0 = Node()\n",
    "c0.text = ['SEQ_SCAN', 'nose']\n",
    "c0.op = 'SEQ_SCAN'\n",
    "c0.args = ['nose']\n",
    "\n",
    "c1 = Node()\n",
    "c1.text = ['PROJECTION', 'capital']\n",
    "c1.op = 'PROJECTION'\n",
    "c1.args = ['capital']\n",
    "c1.filled_question = 'What is the capital of state of !!x!!?'\n",
    "\n",
    "c1.l = c0\n",
    "\n",
    "join_query_trees['SELECT t2.capital FROM state AS t2 JOIN city AS t1 ON t2.state_name = t1.state_name WHERE t1.city_name = \"durham\";'] = c1\n",
    "\n",
    "\n",
    "# Ver query #1 en el archivo de planes\n",
    "# join_query_trees['SELECT name FROM airports WHERE elevation BETWEEN -50 AND 50'] = obtener_sql_plan(\"data/spider_files/spider/database/flight_4/flight_4.sqlite\", \n",
    "#                                                                                                      False, \n",
    "#                                                                                                      \"SELECT name FROM airports WHERE elevation BETWEEN -50 AND 50\")"
   ]
  },
  {
   "cell_type": "markdown",
   "metadata": {},
   "source": [
    "# Traduccion de los operadores de SQL a NL"
   ]
  },
  {
   "cell_type": "code",
   "execution_count": 4,
   "metadata": {},
   "outputs": [],
   "source": [
    "question_maps = json.load(open('data/question_maps.json','r'))\n",
    "augmented_question_maps = augment_questions(question_maps)"
   ]
  },
  {
   "cell_type": "markdown",
   "metadata": {},
   "source": [
    "# Configuración para chatgpt"
   ]
  },
  {
   "cell_type": "code",
   "execution_count": 5,
   "metadata": {},
   "outputs": [],
   "source": [
    "# Instrucciones para chatgpt\n",
    "inst_chatgpt = \"You are a highly intelligent question answering bot. If I ask you a question that is rooted in truth, you will give you the answer. If I ask you a question that is nonsense, trickery, or has no clear answer, you will respond with 'Unknown'. You will answer concisely.\""
   ]
  },
  {
   "cell_type": "code",
   "execution_count": 6,
   "metadata": {},
   "outputs": [],
   "source": [
    "# Ejemplos para chatgpt\n",
    "fewshot_chatgpt = [\n",
    " ['What is human life expectancy in the United States?', '78.'],\n",
    " ['Who was president of the United States in 1955?', 'Dwight D. Eisenhower.'],\n",
    " ['Which party was founded by Gramsci?', 'Comunista.'],\n",
    " ['What is the capital of France?', 'Paris.'],\n",
    " ['What is a continent starting with letter O?', 'Oceania.'],\n",
    " ['Where were the 1992 Olympics held?', 'Barcelona.'],\n",
    " ['How many squigs are in a bonk?', 'Unknown'],\n",
    " ['List me 5 fruits', 'apple, banana, peach, grape, grapefruit, strawberry'], \n",
    " ['List me the first 5 prime numbers', '2, 3, 5, 7, 11'],\n",
    " ['List me 3 presidents of america', 'George Washington, Abraham Lincoln, Franklin D. Roosevelt']]"
   ]
  },
  {
   "cell_type": "markdown",
   "metadata": {},
   "source": [
    "# Ejecutar galois"
   ]
  },
  {
   "cell_type": "code",
   "execution_count": 9,
   "metadata": {},
   "outputs": [
    {
     "name": "stdout",
     "output_type": "stream",
     "text": [
      "SELECT name FROM airports WHERE elevation BETWEEN -50 AND 50\n",
      "\n",
      "\n",
      "Query in dict\n",
      "Mode:  r\n",
      "['SEQ_SCAN', 'airports']\n",
      "Tree Nodes:  ['SEQ_SCAN_airports']\n",
      "SEQ_SCAN_airports\n",
      "OP:  SEQ_SCAN_airports\n",
      "Q:  List some airports. Separate them by a comma. List as much as you can.\n",
      "Unfiltered Answer:  ['JFK, LAX, ORD, ATL, LHR, CDG, DXB, HND, PEK, SIN']\n",
      "Final Answer:  ['LHR', 'ORD', 'CDG', 'DXB', 'JFK', 'PEK', 'ATL', 'HND', 'SIN', 'LAX']\n",
      "\n",
      "\n",
      "Mode:  r\n",
      "['FILTER', '(elevation >= CAST(-50 AS BIGINT))', '(elevation <= CAST(50 AS BIGINT))']\n",
      "Tree Nodes:  ['FILTER_(elevation >= CAST(-50 AS BIGINT))', 'FILTER_(elevation <= CAST(50 AS BIGINT))']\n",
      "FILTER_(elevation >= CAST(-50 AS BIGINT))\n",
      "OP:  FILTER_(elevation >= CAST(-50 AS BIGINT))\n",
      "Q:  Is the elevation of !!x!! greater than or equal to -50? Answer with Yes or No only.\n",
      "In Cache: 0/10\n",
      "Added to cache: Is the elevation of LHR greater than or equal to -50? Answer with Yes or No only. \n",
      "\n",
      "\n",
      "Response:  No\n",
      "Len of cache: 8\n",
      "Added to cache: Is the elevation of ORD greater than or equal to -50? Answer with Yes or No only. \n",
      "\n",
      "\n",
      "Response:  No\n",
      "Len of cache: 9\n",
      "Added to cache: Is the elevation of CDG greater than or equal to -50? Answer with Yes or No only. \n",
      "\n",
      "\n",
      "Response:  No\n",
      "Len of cache: 10\n",
      "Added to cache: Is the elevation of DXB greater than or equal to -50? Answer with Yes or No only. \n",
      "\n",
      "\n",
      "Response:  No\n",
      "Len of cache: 11\n",
      "Added to cache: Is the elevation of JFK greater than or equal to -50? Answer with Yes or No only. \n",
      "\n",
      "\n",
      "Response:  Yes.\n",
      "Len of cache: 12\n",
      "Added to cache: Is the elevation of PEK greater than or equal to -50? Answer with Yes or No only. \n",
      "\n",
      "\n",
      "Response:  No\n",
      "Len of cache: 13\n",
      "Added to cache: Is the elevation of ATL greater than or equal to -50? Answer with Yes or No only. \n",
      "\n",
      "\n",
      "Response:  No\n",
      "Len of cache: 14\n",
      "Added to cache: Is the elevation of HND greater than or equal to -50? Answer with Yes or No only. \n",
      "\n",
      "\n",
      "Response:  No\n",
      "Len of cache: 15\n",
      "Added to cache: Is the elevation of SIN greater than or equal to -50? Answer with Yes or No only. \n",
      "\n",
      "\n",
      "Response:  No\n",
      "Len of cache: 16\n",
      "Added to cache: Is the elevation of LAX greater than or equal to -50? Answer with Yes or No only. \n",
      "\n",
      "\n",
      "Response:  No\n",
      "Len of cache: 17\n",
      "Unfiltered Answer:  ['No', 'No', 'No', 'No', 'Yes.', 'No', 'No', 'No', 'No', 'No']\n",
      "Final Answer:  ['JFK']\n",
      "\n",
      "\n",
      "FILTER_(elevation <= CAST(50 AS BIGINT))\n",
      "OP:  FILTER_(elevation <= CAST(50 AS BIGINT))\n",
      "Q:  Is the elevation of !!x!! less than or equal to 50? Answer with Yes or No only.\n",
      "In Cache: 0/10\n",
      "Added to cache: Is the elevation of LHR less than or equal to 50? Answer with Yes or No only. \n",
      "\n",
      "\n",
      "Response:  No\n",
      "Len of cache: 18\n",
      "Added to cache: Is the elevation of ORD less than or equal to 50? Answer with Yes or No only. \n",
      "\n",
      "\n",
      "Response:  No\n",
      "Len of cache: 19\n",
      "Added to cache: Is the elevation of CDG less than or equal to 50? Answer with Yes or No only. \n",
      "\n",
      "\n",
      "Response:  Unknown\n",
      "Len of cache: 20\n",
      "Added to cache: Is the elevation of DXB less than or equal to 50? Answer with Yes or No only. \n",
      "\n",
      "\n",
      "Response:  Unknown\n",
      "Len of cache: 21\n",
      "Added to cache: Is the elevation of JFK less than or equal to 50? Answer with Yes or No only. \n",
      "\n",
      "\n",
      "Response:  No\n",
      "Len of cache: 22\n",
      "Added to cache: Is the elevation of PEK less than or equal to 50? Answer with Yes or No only. \n",
      "\n",
      "\n",
      "Response:  No\n",
      "Len of cache: 23\n",
      "Added to cache: Is the elevation of ATL less than or equal to 50? Answer with Yes or No only. \n",
      "\n",
      "\n",
      "Response:  No\n",
      "Len of cache: 24\n",
      "Added to cache: Is the elevation of HND less than or equal to 50? Answer with Yes or No only. \n",
      "\n",
      "\n",
      "Response:  Unknown\n",
      "Len of cache: 25\n",
      "Added to cache: Is the elevation of SIN less than or equal to 50? Answer with Yes or No only. \n",
      "\n",
      "\n",
      "Response:  No\n",
      "Len of cache: 26\n",
      "Added to cache: Is the elevation of LAX less than or equal to 50? Answer with Yes or No only. \n",
      "\n",
      "\n",
      "Response:  No\n",
      "Len of cache: 27\n",
      "Unfiltered Answer:  ['No', 'No', 'Unknown', 'Unknown', 'No', 'No', 'No', 'Unknown', 'No', 'No']\n",
      "Final Answer:  []\n",
      "EMPTY\n",
      "Mode:  r\n",
      "['PROJECTION', 'name']\n",
      "Tree Nodes:  ['PROJECTION_name']\n",
      "PROJECTION_name\n",
      "OP:  PROJECTION_name\n",
      "Q:  What is the name of !!x!!?\n",
      "In Cache: 0/0\n",
      "Unfiltered Answer:  []\n",
      "Final Answer:  []\n",
      "\n",
      "\n",
      "===================================================================================\n"
     ]
    }
   ],
   "source": [
    "nombre= \"experimento#\"\n",
    "contador = 1\n",
    "for query, plan in join_query_trees.items():\n",
    "    GPT_SPWJ(model_arch='gpt-3.5-turbo', \n",
    "            query=query,\n",
    "            instr=inst_chatgpt,\n",
    "            few_shots=fewshot_chatgpt,\n",
    "            inst_funct=1,\n",
    "            label=f'{nombre}{contador}',\n",
    "            augmented_question_maps=augmented_question_maps,\n",
    "            query_plan_dict=join_query_trees,\n",
    "            verbose=True)"
   ]
  }
 ],
 "metadata": {
  "kernelspec": {
   "display_name": "env",
   "language": "python",
   "name": "python3"
  },
  "language_info": {
   "codemirror_mode": {
    "name": "ipython",
    "version": 3
   },
   "file_extension": ".py",
   "mimetype": "text/x-python",
   "name": "python",
   "nbconvert_exporter": "python",
   "pygments_lexer": "ipython3",
   "version": "3.11.5"
  }
 },
 "nbformat": 4,
 "nbformat_minor": 2
}
