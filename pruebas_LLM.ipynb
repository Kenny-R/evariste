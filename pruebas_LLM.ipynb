{
 "cells": [
  {
   "cell_type": "markdown",
   "metadata": {},
   "source": [
    "# Librerias necesarias"
   ]
  },
  {
   "cell_type": "code",
   "execution_count": 2,
   "metadata": {},
   "outputs": [],
   "source": [
    "from langchain_core.runnables import RunnablePassthrough\n",
    "from langchain_core.prompts import ChatPromptTemplate\n",
    "from langchain_community.llms import Ollama\n",
    "from traduccion_sql_ln import *\n",
    "from parser_SQL import *\n",
    "from embeddings import *\n",
    "import mdpd"
   ]
  },
  {
   "cell_type": "markdown",
   "metadata": {},
   "source": [
    "# Configuración inicial"
   ]
  },
  {
   "cell_type": "markdown",
   "metadata": {},
   "source": [
    "## Configuración embeddins"
   ]
  },
  {
   "cell_type": "code",
   "execution_count": 3,
   "metadata": {},
   "outputs": [
    {
     "name": "stderr",
     "output_type": "stream",
     "text": [
      "c:\\Users\\PC\\miniconda3\\envs\\evariste-env\\lib\\site-packages\\sentence_transformers\\cross_encoder\\CrossEncoder.py:11: TqdmWarning: IProgress not found. Please update jupyter and ipywidgets. See https://ipywidgets.readthedocs.io/en/stable/user_install.html\n",
      "  from tqdm.autonotebook import tqdm, trange\n",
      "c:\\Users\\PC\\miniconda3\\envs\\evariste-env\\lib\\site-packages\\huggingface_hub\\file_download.py:1132: FutureWarning: `resume_download` is deprecated and will be removed in version 1.0.0. Downloads always resume when possible. If you want to force a new download, use `force_download=True`.\n",
      "  warnings.warn(\n"
     ]
    }
   ],
   "source": [
    "modelPath = \"thenlper/gte-large\"\n",
    "\n",
    "model_kwargs = {'device':'cuda'}\n",
    "\n",
    "encode_kwargs = {'normalize_embeddings': False}\n",
    "\n",
    "embeddings = HuggingFaceEmbeddings(\n",
    "    model_name=modelPath,     # Provide the pre-trained model's path\n",
    "    model_kwargs=model_kwargs, # Pass the model configuration options\n",
    "    encode_kwargs=encode_kwargs # Pass the encoding options\n",
    ")"
   ]
  },
  {
   "cell_type": "code",
   "execution_count": 6,
   "metadata": {},
   "outputs": [],
   "source": [
    "db = cargar_embeddings('emmbeddings_db', 'indices_paises_wikis', embeddings)"
   ]
  },
  {
   "cell_type": "markdown",
   "metadata": {},
   "source": [
    "## Configuración LLM"
   ]
  },
  {
   "cell_type": "code",
   "execution_count": 7,
   "metadata": {},
   "outputs": [],
   "source": [
    "retriever = db.as_retriever()\n",
    "\n",
    "ollama = Ollama(\n",
    "    base_url='http://localhost:3030',\n",
    "    model=\"llama2-uncensored\",\n",
    "    num_ctx=4096,\n",
    "    temperature = 0.2\n",
    ")"
   ]
  },
  {
   "cell_type": "markdown",
   "metadata": {},
   "source": [
    "# Preparación para hacer las preguntas"
   ]
  },
  {
   "cell_type": "code",
   "execution_count": 19,
   "metadata": {},
   "outputs": [],
   "source": [
    "# Configuraciones para hacer las preguntas\n",
    "system_prompt=(\"You are a highly intelligent question answering bot. \"\n",
    "               \"You will answer concisely. \"\n",
    "               \"Use only the given context to answer the question. \"\n",
    "               \"Context: {context}\"\n",
    "               \"\\n{format_instructions}\")\n",
    "\n",
    "prompt = ChatPromptTemplate.from_messages(\n",
    "    [\n",
    "        (\"system\", system_prompt),\n",
    "        (\"human\", \"In the next table there are the answer of the question\\n{question}\"),\n",
    "    ],\n",
    ")\n",
    "\n",
    "def format_docs(docs):\n",
    "    text = \"\\n\\n\".join(doc.page_content for doc in docs)\n",
    "    print(\"$$$$$$$$$$$$$$$$$$$$$$$$$$$$$$$$$$$$$$$$$$$$$$$$$$$$$$$$$$$\")\n",
    "    for doc in docs:\n",
    "        print(\"!!!!!!!!!!!!!!!!!!!!!!!!!!!!!!!!!!\")\n",
    "        print(doc.metadata['source'])\n",
    "        print(\"!!!!!!!!!!!!!!!!!!!!!!!!!!!!!!!!!!\")\n",
    "        print(doc.page_content)\n",
    "    print(\"$$$$$$$$$$$$$$$$$$$$$$$$$$$$$$$$$$$$$$$$$$$$$$$$$$$$$$$$$$$\")\n",
    "    return text\n",
    "\n",
    "def crear_instrucciones(columnas: list[str]):\n",
    "    texto = \"Instructions: \\n\"\n",
    "    texto = \"Format the information as a table with columns for \"\n",
    "    \n",
    "    if len(columnas) == 1:\n",
    "        texto += columnas[0]\n",
    "    elif len(columnas) > 1:\n",
    "        texto += \", \".join(columnas[:-1]) + f\" and {columnas[-1]}\"\n",
    "            \n",
    "    texto += \" Your response should bein CSV format\\n\"\n",
    "\n",
    "    texto += \"If your answer is a number like millions or thousands, return the always all its digits using the format used in America. \\n\"\n",
    "    texto += \"If I ask you a question that is rooted in truth, you will give you the answer.\\n\"\n",
    "    texto += \"If I ask you a question that is nonsense, trickery, or has no clear answer, you will respond with 'Unknown'. \"\n",
    "    \n",
    "    return (lambda *args: texto)\n",
    "\n",
    "def crear_ejemplos():\n",
    "    texto = \"Examples: \\n\"\n",
    "    fewshot_chatgpt = [\n",
    "                        ['What is human life expectancy in the United States?', '78.'],\n",
    "                        ['Who was president of the United States in 1955?', 'Dwight D. Eisenhower.'],\n",
    "                        ['Which party was founded by Gramsci?', 'Comunista.'],\n",
    "                        ['What is the capital of France?', 'Paris.'],\n",
    "                        ['What is a continent starting with letter O?', 'Oceania.'],\n",
    "                        ['Where were the 1992 Olympics held?', 'Barcelona.'],\n",
    "                        ['How many squigs are in a bonk?', 'Unknown'],\n",
    "                        ['What is the population of Venezuela: 28,300,000']]\n",
    "    return (lambda *args: texto)\n",
    "\n",
    "def hacer_consulta(traduccion: str, columnas: list[str]):\n",
    "\n",
    "    columnas_traduccion = type(columnas)(columnas)\n",
    "    print(f\"Procesando la pregunta:\\n\\t{traduccion}\")\n",
    "    rag_chain = (\n",
    "        {\"context\": retriever | format_docs, \n",
    "        \"question\": RunnablePassthrough(),\n",
    "        \"format_instructions\": crear_instrucciones(columnas_traduccion),\n",
    "        \"examples\": crear_ejemplos()}\n",
    "        | prompt\n",
    "        | ollama\n",
    "    )\n",
    "\n",
    "    # return rag_chain.invoke(traduccion)\n",
    "    resultado_limpio = rag_chain.invoke(traduccion)\n",
    "    print(\"Resultado sin procesar: \")\n",
    "    print(resultado_limpio)\n",
    "    print(\"############################################################\")\n",
    "    df = mdpd.from_md(resultado_limpio)\n",
    "    if len(df) != 0:\n",
    "        if len(df.columns) > len(columnas):\n",
    "            # Hacer una busqueda de similitud por los nombres\n",
    "            df.columns = columnas + list(df.columns)[len(columnas):]\n",
    "        elif len(df.columns) < len(columnas):\n",
    "            # Hacer una busqueda de similitud por los nombres\n",
    "            df.columns = columnas[:len(df.columns)]\n",
    "        else:\n",
    "            df.columns = columnas\n",
    "\n",
    "    return df"
   ]
  },
  {
   "cell_type": "code",
   "execution_count": 25,
   "metadata": {},
   "outputs": [
    {
     "name": "stdout",
     "output_type": "stream",
     "text": [
      "Procesando la pregunta:\n",
      "\tfor each language, give the language where country is bolivia and the language is oficial\n",
      "$$$$$$$$$$$$$$$$$$$$$$$$$$$$$$$$$$$$$$$$$$$$$$$$$$$$$$$$$$$\n",
      "!!!!!!!!!!!!!!!!!!!!!!!!!!!!!!!!!!\n",
      "resultados/paises_wikipedia/Bolivia.txt\n",
      "!!!!!!!!!!!!!!!!!!!!!!!!!!!!!!!!!!\n",
      " Bank. Archived from the original on 11 August 2018. Retrieved 22 March 2020.\n",
      " ↑ Human Development Report 2020 The Next Frontier: Human Development and the Anthropocene (PDF). United Nations Development Programme. 15 December 2020. pp. 343–346. ISBN 978-92-1-126442-5. Retrieved 16 December 2020.\n",
      " ↑ \"Bolivia (Plurinational State of)\". World Health Organization. 11 May 2010. Archived from the original on 6 October 2010. Retrieved 30 August 2010.\n",
      " ↑ \"Bolivia (Plurinational State of)\". UNdata. Archived from the original on 2 July 2010. Retrieved 30 August 2010.\n",
      " ↑ \"World Factbook\". Archived from the original on 2014-02-09. Retrieved 2009-06-07.\n",
      " ↑ Fenton-Glynn, Claire (2019-04-18). Children's Rights and Sustainable Development: Interpreting the UNCRC for Future Generations. Cambridge University Press. p. 296. ISBN 978-1-107-19302-4.\n",
      " ↑ Political Constitution of Bolivia, Article 269\n",
      " ↑ \"Instituto Nacional de Estadística de Bolivia\". Archived from the original on 2008-04-30. Retrieved 2012-03-28.\n",
      " Notes\n",
      " ↑ Spanish: [boˈliβja] (listen); Guarani: Mborivia [ᵐboˈɾiʋja]; Aymara: Wuliwya [wʊlɪwja]; Quechua: Puliwya [pʊlɪwja]\n",
      " ↑ Spanish: Estado Plurinacional de Bolivia Spanish pronunciation: [esˈtaðo pluɾinasjoˈnal de βoˈliβja] (listen)\n",
      " \n",
      " Other websites[change | change source] \n",
      " Bolivia map  Media related to Bolivia at Wikimedia Commons  Bolivia travel guide from Wikivoyage https://simple.wikipedia.org/w/index.php?title=Bolivia&oldid=9498026 Categories Bolivia Spanish-speaking countries 1825 establishments in South America CS1 Spanish-language sources (es) CS1 European Spanish-language sources (es-es) Articles with hAudio microformats Articles containing Guarani-language text Articles containing Aymara-language text Articles containing Spanish-language text Pages including recorded pronunciations Commons category link\n",
      "!!!!!!!!!!!!!!!!!!!!!!!!!!!!!!!!!!\n",
      "resultados/paises_wikipedia/Bolivia.txt\n",
      "!!!!!!!!!!!!!!!!!!!!!!!!!!!!!!!!!!\n",
      "Bolivia[a] /bəˈlɪviə/ (listen), officially the Plurinational State of Bolivia,[b][8][9] is a country in South America.  It is land locked by Brazil, Paraguay, Argentina, Peru, and Chile.  Luis Alberto Arce Catacora became the president of Bolivia in November 2020.\n",
      "The population of Bolivia is 8-9 million (2019).\n",
      " Bolivia is named after Simón Bolívar. The main languages are Spanish and Quechua, but there are other languages too.\n",
      " \n",
      " History[change | change source] \n",
      " Bolivia used to be a colony of Spain. The silver mines in Bolivia made most of Spain's money, and Spain used the Native Bolivians as slaves to work in the mines.\n",
      "After many wars, Simón Bolívar helped Bolivia to be an independent country.\n",
      " \n",
      " Geography[change | change source] \n",
      "  CIA World Factbook  Bolivia is 424,135 mi² (1,098,581 km²).[10] This means that Bolivia is the world's 28th-largest country (after Ethiopia). It is the same sort of size as Mauritania.\n",
      " Bolivia is a landlocked nation, which means every border of Bolivia is a border with another country, and so it does not have a sea. It used to own some of the Pacific coast, but it lost it in 1879 in the War of the Pacific. The west of Bolivia is on the Andes mountain range. The highest mountain in Bolivia is called Nevado de Sajama and it is near the city of Oruro. Although this part of the country is very high with lots of mountains, there are also parts of Bolivia which are very flat, and parts of the country which are very near sea level. There is also a bit of Bolivia covered by the Amazon rainforest, and a big lake which is the highest lake in the world. This lake is called Lake Titicaca.\n",
      " The major cities are La Paz, El Alto, Santa Cruz de la Sierra and Cochabamba.  For other places in Bolivia see List of cities in Bolivia.\n",
      " \n",
      " Demographics[change | change source] \n",
      " The population of Bolivia is approximately 10,907,778 people. The ethnic composition of the country is like the following:\n",
      " 62%: Native American. 26%: Mestizo. 10%: White. 2%: Black \n",
      " Economy[\n",
      "!!!!!!!!!!!!!!!!!!!!!!!!!!!!!!!!!!\n",
      "resultados/paises_wikivoyage/Bolivia.txt\n",
      "!!!!!!!!!!!!!!!!!!!!!!!!!!!!!!!!!!\n",
      "\n",
      " Bolivia is a beautiful, geographically rich, and multiethnic country in the heart of South America, visited for its stunning mountain landscapes and vibrant indigenous culture.\n",
      " \n",
      " Regions[edit] \n",
      " Bolivia is structured into the following regions and their departments.\n",
      "  switch to interactive map  17°0′0″S 65°0′0″W switch to static map  \n",
      "\n",
      "\n",
      " \n",
      "\n",
      "\n",
      " \n",
      "\n",
      "\n",
      " \n",
      " Cities[edit] \n",
      " -16.495833-68.1333331 La Paz — The administrative capital and seat of the government. Gateway to the highest climbable mountains in Bolivia, Lake Titicaca and the Death Road. -17.393542-66.1570142 Cochabamba — The country's third-largest city, with a pleasant, moderate climate. -17.966667-67.1166673 Oruro — Famous for its carnival and a good jumping-off if you intend to head towards Sajama National Park. -19.589167-65.7533334 Potosí — A high-altitude mining town, once one of the wealthiest cities in the world due to its silver mines. Popular for its mining tours. -16.981389-67.2172225 Quime — Raunchy and friendly but sleepy mountain village surrounded by high mountains of the Cordillera Quimsa Cruz, with mines, waterfalls, native cloud forest and 31 Aimara indigenous communities. -17.789167-63.19756 Santa Cruz — The second-largest and most affluent city of Bolivia. -15.773611-68.6486117 Sorata — Go there for some of the best climbs (Illampu, Ancohuma) and mountain hikes. Similar to Quime but more vibrant and alive with vast hiking opportunities, ranging from 1-day Laguna to 12-day villages hikes. -19.0475-65.268 Sucre — The constitutional capital and seat of judiciary. Also, a popular tourist magnet with lots to see and do including hiking, partying and seeing dinosaur footprints. -21.533889-64.7341679 Tarija — Famous for its wine production and pleasant climate. The Festival of Wine is held annually in Tarija. \n",
      " Other destinations[edit] \n",
      " -16.353333-68.1313891 Chacaltaya & Huayna Potosi — the world's highest ski resort\n",
      "!!!!!!!!!!!!!!!!!!!!!!!!!!!!!!!!!!\n",
      "resultados/paises_wikivoyage/Bolivia.txt\n",
      "!!!!!!!!!!!!!!!!!!!!!!!!!!!!!!!!!!\n",
      " OpenStreetMap relation ID to download the GPX or KML files through the same link.)\n",
      " \n",
      " Talk[edit] \n",
      " Spanish phrasebook Quechua phrasebook Aymara phrasebook Bolivia has 37 official languages, of which Spanish (often called Castellano), Quechua, and Aymara are the main ones. In rural areas, many people do not speak Spanish. Nevertheless, you should be able to get by with some basic Castellano. Bolivia is one of the best places in which to learn or practice your Spanish because of their very clean, deliberate accent. There are many options for studying Spanish in Bolivia, and they are usually very good (often, the program includes a very good homestay component).\n",
      " \n",
      " See[edit] \n",
      "  Bolivia has six UNESCO World Heritage Sites. In the eastern department of Santa Cruz there are the Noel Kempff Mercado National Park, the Inca site El Fuerte in Samaipata and the Jesuit Missions of the Chiquitos. Near the capital there is Tiwanaku, an archeological site with the remains of an pre-Incan city. Finally there are Sucre and Potosí, two cities founded by the Spanish in the 16th century.\n",
      " Furthermore Bolivia has the world's largest salt flat Salar de Uyuni, a portion of Lake Titicaca with Isla del Sol and being located in the middle of the Andes — mountain peaks higher than 6,000m.\n",
      " \n",
      " Do[edit] \n",
      " Yungas Road aka Death Road – From La Cumbre to Coroico. A mountain bike tour of 64 km where you'll be able to see the diversity of Bolivia. Leave from La Cumbre at 5,000 m, in a cold and windy environment, and get to Coroico, in a wet and tropical environment. Parts of the trail can also be hiked, or try the parallel and picturesque 3 day El Choro Trek to Coroico. Explore the Provinces – Bolivia is a place to explore, it is mostly still untouched. The people are friendly in the countryside. There are hundreds of places off the map, mostly out-of-the-guide places to go in Bolivia, and far more exciting than what the tour agencies and guide books offer. In the La Paz department for example you can easily catch transport to places like Pelechuco, Charazani, the east side of Lake Titicaca,\n",
      "$$$$$$$$$$$$$$$$$$$$$$$$$$$$$$$$$$$$$$$$$$$$$$$$$$$$$$$$$$$\n",
      "Resultado sin procesar: \n",
      "| Language | Country |\n",
      "| --- | --- |\n",
      "| Spanish | Bolivia |\n",
      "| Quechua | Bolivia |\n",
      "| Aymara | Bolivia |\n",
      "############################################################\n",
      "  country language  Country\n",
      "0          Spanish  Bolivia\n",
      "1          Quechua  Bolivia\n",
      "2           Aymara  Bolivia\n"
     ]
    }
   ],
   "source": [
    "respuesta = hacer_consulta('for each language, give the language where country is bolivia and the language is oficial', [\"country language\"])\n",
    "print(respuesta)"
   ]
  },
  {
   "cell_type": "code",
   "execution_count": null,
   "metadata": {},
   "outputs": [],
   "source": [
    "prompt_str = \"You are a highly intelligent question answering bot. If I ask you a question that is rooted in truth, you will give you the answer. If I ask you a question that is nonsense, trickery, or has no clear answer, you will respond with 'Unknown'. You will answer concisely. Use the given context as a support to answer the question if you can't answer the question.Context:  with almost 3,000 delegates. The NPC is often described as a \\\"rubber stamping\\\" body; it vetoed no bills and members have complained about their lack of power.\\n China largely follows a centralized system of government, and is administratively divided into 22 provinces, 5 autonomous regions and 4 directly controlled municipalities. Provincial governments have limited powers in their internal and economic affairs. Autonomous regions have more autonomy than provinces, such as the right to declare additional official languages and holidays in additional to Mandarin and other national holidays. Directly controlled municipalities are cities that are not part of any province, and instead report directly to the central government in Beijing. Often having different names, prefectures ((地级)市/自治州/地区), counties (县/(县级)市/区) and townships (乡/镇/街道) are one by one subordinated.\\n The Special Administrative Regions (SAR), Hong Kong and Macau, in principle run themselves as separate jurisdictions, with only foreign policy and defense being controlled by Beijing, though in practice this autonomy is restricted. There is an active independence movement in Hong Kong, but the imposition of the National Security Law in 2020 has largely driven the movement underground.\\n The PRC considers Taiwan to be one of its provinces, but Taiwan's government (the Republic of China) has been completely separate from the mainland Chinese one since 1949. Both governments on paper continue to claim to be the sole legitimate government for all of China. There is significant support for formal independence in Taiwan, but China's government has repeatedly threatened to launch a military attack on Taiwan if the island declares itself independent. See Chinese provinces and regions for more detail.\\n \\n People and customs[edit] \\n Minority cultures of China With 1.4 billion inhabitants, China is home to nearly a fifth of the world's population. It is a diverse place with large variations in culture, language, customs and economic levels from region to region, and often strong distinct cultural and regional identities as well.\\n The economic landscape is particularly diverse. The major cities such as Beijing, Guangzhou and Shanghai are modern and comparatively wealthy. However, about 50% of Chinese still live in rural areas even though only 10% of China's land is arable. Hundreds of millions of rural residents still farm with manual labor or draft animals. Some 200 to 300 million former peasants have migrated to townships and cities in\\n\\n that around major holidays, places may be closed when they're usually open or open when they would usually be closed.\\n \\n Time zones[edit] \\n Despite geographically spanning five time zones, all of China officially follows Beijing Time (UTC+8). However, in the restive province of Xinjiang, while the official time is Beijing Time, some ethnic Uyghurs use the UTC+6 time zone as a sign of defiance against Beijing.\\n \\n Read[edit] \\n Wild Swans by Jung Chang (ISBN 0007176155) - a biography of three generations, from the warlord days to the end of Mao's era, illustrating life under China's version of nationalism and communism. This book is banned in China. The Search for Modern China by Jonathan Spence - a standard history book on modern China from the late Ming to the current period. \\n See also[edit] \\n \\n Talk[edit] \\n Chinese phrasebook  The official language of China is Standard Mandarin, known in Chinese as Pǔtōnghuà (普通话, \\\"common speech\\\"), which is based on the Beijing dialect; Chinese in general is known as Zhōngwén (中文). Standard Mandarin is the main language for government and media, as well as the national lingua franca. While the official language is standardized, local pronunciation of Mandarin does vary by region. Unless otherwise noted, all terms, spellings and pronunciations in this guide are in Standard Mandarin. While national media is broadcast in Mandarin, each area often has its own local media that broadcasts in the local language.\\n Chinese is written using Chinese characters (汉字, hànzì, lit. \\\"Han characters\\\"). Unlike an alphabet that represents individual sounds without any inherent meaning, each Chinese character represents a meaningful syllable: a specific word or part of a word. Although they look impenetrable at first, there is some method to the madness: most characters are composed from base components combined with other characters (often giving clues to both pronunciation and general meaning). The same characters are used in Japan and Korea with usually similar meanings, albeit different pronunciations. However, since the 1950s mainland China has used simplified characters, such as 龟 instead of 龜, in an attempt to eradicate illiteracy. Hong Kong, Macau, Taiwan, and many overseas Chinese still use the traditional characters, which are also sometimes used on\\n\\n\\n China (disambiguation) China (中国; Zhōngguó) is one of the world's oldest civilizations. Its long and rich history is present in people's thinking and values, and in the art, architecture, and feats of engineering that remain from dynasties past. In addition to its bustling and futuristic cities like Shanghai and Shenzhen, China boasts an incredible array of breathtaking natural wonders like the karst landscapes of Guilin and granite peaks of Huangshan that have inspired painters and poets for generations.\\n After a tumultuous 19th and 20th centuries, China has dramatically re-emerged as an economic powerhouse. Its rapid development has been paralleled by an ascent onto the international stage. Of course there are growing pains when high-rises and factories surge up to dwarf centuries-old pagodas, but there's also a strong sense of enthusiasm and optimism about what the future holds. If you visit now, you can see the relics of millennia of history and experience the signs of further transformations in progress.\\n \\n Regions[edit] \\n China's hierarchy of administrative divisions has 22 provinces (省 shěng) which tend to have their own cultural identities, and 5 autonomous regions (自治区 zìzhìqū), each with a designated minority ethnic group. These along with four municipalities (直辖市 zhíxiáshì) make up what is known as mainland China (中国大陆 Zhōngguó dàlù).\\n For the purposes of Wikivoyage, these provinces are grouped into the following regions:\\n Regions of China \\n\\n\\n\\n\\n\\n\\n \\n Cities[edit] \\n  Beijing Here are nine of China's most interesting cities for travelers. Others are listed in region articles.\\n 39.90403116.4075261 Beijing (北京) — the capital, cultural center, and home of the Forbidden City, the Summer Palace, and other important historical sites. 30.66104.0633332 Chengdu (成都) — capital of Sichuan province, known for tingly-spicy food, and home of the giant pandas. 23.13113.263 Guangzhou (广州) — one of China's most prosperous and liberal cities. Center of Cantonese culture and cuisine .  Guilin 30.25120.16754\\n\\n Center of Cantonese culture and cuisine .  Guilin 30.25120.16754 Hangzhou (杭州) — built around West Lake, a  UNESCO World Heritage Site, and southern terminus of the Grand Canal. 45.75126.6333335 Harbin (哈尔滨) — capital of Heilongjiang, which hosts the Ice and Snow Sculpture Festival during its bitterly cold winters. 39.4575.9833336 Kashgar (Chinese: 喀什, Uyghur: قەشقەر) — center of Uyghur culture, with a beautiful and well-preserved old town, and the famous Id Kah Mosque. 32.060833118.7788897 Nanjing (南京) — the capital during the early Ming Dynasty and Republic of China era, a renowned historical and cultural city with many historic sites. 31.166667121.4666678 Shanghai (上海) — China's largest city and main commercial centre, famous for its beautiful pre-World War II French, British and American colonial architecture, ultramodern 21st-century skyscrapers, and many shopping opportunities. 34.261111108.9422229 Xi'an (西安) — the oldest city and ancient capital of China, terminus of the ancient Silk Road, and home of the terracotta warriors. You can travel to many of these cities using the new fast trains. In particular, the Hangzhou - Shanghai - Suzhou - Nanjing line is a convenient way to see these historic areas.\\n \\n Other destinations[edit] \\n Some of the most famous tourist attractions in China are:\\n 40.416667116.0833331 Great Wall of China (万里长城) — longer than 8,000 km, this ancient wall is the most iconic landmark of China. 20.03342110.323982 Hainan (海南) — a tropical paradise island undergoing heavy tourism-oriented development. 33.2103.93 Jiuzhaigou Nature Reserve (九寨沟) — known for its many multi-level waterfalls, colourful lakes and as the home of the giant pandas. 29.5854103.757554 Leshan — most famous for its huge riverside cliff-car\\nHuman: Answer the query.\\nFormat the information as a table with columns for name Your response should be a table Your response should be a table\\nWhich unique cities are in Asian countries where Chinese is the official language ?\""
   ]
  },
  {
   "cell_type": "code",
   "execution_count": null,
   "metadata": {},
   "outputs": [],
   "source": [
    "import tiktoken\n",
    "encoding = tiktoken.get_encoding(\"cl100k_base\")\n",
    "num_tokens = len(encoding.encode(prompt_str))\n",
    "print(num_tokens)"
   ]
  },
  {
   "cell_type": "markdown",
   "metadata": {},
   "source": [
    "# Haciendo consultas"
   ]
  },
  {
   "cell_type": "code",
   "execution_count": null,
   "metadata": {},
   "outputs": [],
   "source": [
    "consulta_sql = '''SELECT T2.Language FROM country AS T1 JOIN countrylanguage AS T2 ON T1.Code = T2.CountryCode WHERE T1.HeadOfState = \"Beatrix\" AND T2.IsOfficial = \"T\"'''\n",
    "# consulta_sql = '''select distinct t3.name from country as t1 join countrylanguage as t2 on t1.code = t2.countrycode join city as t3 on t1.code = t3.countrycode where t2.isofficial = 't' and t2.language = 'chinese' and t1.continent = \"asia\"'''  \n",
    "lista_miniconsulta = obtener_miniconsultas(consulta_sql)['independientes']\n",
    "\n",
    "for miniconsulta in lista_miniconsulta:\n",
    "    traduccion, _, _ = miniconsulta.crear_prompt()\n",
    "    miniconsulta.ejecutar()\n",
    "    print(\"################################################\")\n",
    "    print(f\"Pregunta: {traduccion}\")\n",
    "    print(\"Respuesta: \")\n",
    "    df = miniconsulta.resultado\n",
    "    print(df)\n",
    "\n",
    "\n",
    "    "
   ]
  },
  {
   "cell_type": "code",
   "execution_count": null,
   "metadata": {},
   "outputs": [],
   "source": [
    "import pandas as pd\n",
    "\n",
    "a = pd.DataFrame({\n",
    "  \"A\": [2, 1],\n",
    "  \"B\": [4, 3]\n",
    "})\n",
    "\n",
    "a['position'] = a.index\n",
    "\n",
    "b = pd.DataFrame({\n",
    "  \"C\": [2, 6],\n",
    "  \"D\": [4, 8]\n",
    "})\n",
    "\n",
    "resultado = a.merge(b,left_on=['A', 'B'], right_on=['C','D'])\n",
    "\n",
    "resultado.drop(['position'], axis=1)"
   ]
  }
 ],
 "metadata": {
  "kernelspec": {
   "display_name": "evariste-env",
   "language": "python",
   "name": "python3"
  },
  "language_info": {
   "codemirror_mode": {
    "name": "ipython",
    "version": 3
   },
   "file_extension": ".py",
   "mimetype": "text/x-python",
   "name": "python",
   "nbconvert_exporter": "python",
   "pygments_lexer": "ipython3",
   "version": "3.10.14"
  }
 },
 "nbformat": 4,
 "nbformat_minor": 2
}
