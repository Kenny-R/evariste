{
 "cells": [
  {
   "cell_type": "markdown",
   "metadata": {},
   "source": [
    "# Librerias necesarias"
   ]
  },
  {
   "cell_type": "code",
   "execution_count": 1,
   "metadata": {},
   "outputs": [
    {
     "name": "stderr",
     "output_type": "stream",
     "text": [
      "c:\\Users\\PC\\miniconda3\\envs\\evariste-env\\lib\\site-packages\\sentence_transformers\\cross_encoder\\CrossEncoder.py:11: TqdmWarning: IProgress not found. Please update jupyter and ipywidgets. See https://ipywidgets.readthedocs.io/en/stable/user_install.html\n",
      "  from tqdm.autonotebook import tqdm, trange\n",
      "c:\\Users\\PC\\miniconda3\\envs\\evariste-env\\lib\\site-packages\\huggingface_hub\\file_download.py:1132: FutureWarning: `resume_download` is deprecated and will be removed in version 1.0.0. Downloads always resume when possible. If you want to force a new download, use `force_download=True`.\n",
      "  warnings.warn(\n"
     ]
    }
   ],
   "source": [
    "from langchain_core.output_parsers import StrOutputParser\n",
    "from langchain_core.runnables import RunnablePassthrough\n",
    "from langchain_core.prompts import ChatPromptTemplate\n",
    "from langchain_community.llms import Ollama\n",
    "from traduccion_sql_ln import *\n",
    "from parser_SQL import *\n",
    "from embeddings import *"
   ]
  },
  {
   "cell_type": "markdown",
   "metadata": {},
   "source": [
    "# Configuración inicial"
   ]
  },
  {
   "cell_type": "markdown",
   "metadata": {},
   "source": [
    "## Configuración embeddins"
   ]
  },
  {
   "cell_type": "code",
   "execution_count": 2,
   "metadata": {},
   "outputs": [
    {
     "name": "stderr",
     "output_type": "stream",
     "text": [
      "c:\\Users\\PC\\miniconda3\\envs\\evariste-env\\lib\\site-packages\\sentence_transformers\\cross_encoder\\CrossEncoder.py:11: TqdmWarning: IProgress not found. Please update jupyter and ipywidgets. See https://ipywidgets.readthedocs.io/en/stable/user_install.html\n",
      "  from tqdm.autonotebook import tqdm, trange\n",
      "c:\\Users\\PC\\miniconda3\\envs\\evariste-env\\lib\\site-packages\\huggingface_hub\\file_download.py:1132: FutureWarning: `resume_download` is deprecated and will be removed in version 1.0.0. Downloads always resume when possible. If you want to force a new download, use `force_download=True`.\n",
      "  warnings.warn(\n"
     ]
    }
   ],
   "source": [
    "modelPath = \"thenlper/gte-large\"\n",
    "\n",
    "model_kwargs = {'device':'cuda'}\n",
    "\n",
    "encode_kwargs = {'normalize_embeddings': False}\n",
    "\n",
    "embeddings = HuggingFaceEmbeddings(\n",
    "    model_name=modelPath,     # Provide the pre-trained model's path\n",
    "    model_kwargs=model_kwargs, # Pass the model configuration options\n",
    "    encode_kwargs=encode_kwargs # Pass the encoding options\n",
    ")"
   ]
  },
  {
   "cell_type": "code",
   "execution_count": 3,
   "metadata": {},
   "outputs": [],
   "source": [
    "db = cargar_embeddings('emmbeddings_db', 'indices_paises_wikis', embeddings)"
   ]
  },
  {
   "cell_type": "markdown",
   "metadata": {},
   "source": [
    "## Configuración LLM"
   ]
  },
  {
   "cell_type": "code",
   "execution_count": 4,
   "metadata": {},
   "outputs": [],
   "source": [
    "retriever = db.as_retriever()\n",
    "\n",
    "ollama = Ollama(\n",
    "    base_url='http://localhost:3030',\n",
    "    model=\"llama2-uncensored\"\n",
    ")"
   ]
  },
  {
   "cell_type": "markdown",
   "metadata": {},
   "source": [
    "# Preparación para hacer las preguntas"
   ]
  },
  {
   "cell_type": "code",
   "execution_count": 5,
   "metadata": {},
   "outputs": [],
   "source": [
    "system_prompt=(\"You are a highly intelligent question answering bot. \"\n",
    "               \"If I ask you a question that is rooted in truth, you will give you the answer. \"\n",
    "               \"If I ask you a question that is nonsense, trickery, or has no clear answer, you will respond with 'Unknown'. \"\n",
    "               \"You will answer concisely. \"\n",
    "               \"Use the given context as a support to answer the question if you can't answer the question.\"\n",
    "               \"Context: {context}\")\n",
    "\n",
    "prompt = ChatPromptTemplate.from_messages(\n",
    "    [\n",
    "        (\"system\", system_prompt),\n",
    "        (\"human\", \"Answer the query.\\n{format_instructions}\\n{question}\\n\"),\n",
    "    ],\n",
    ")\n",
    "\n",
    "def format_docs(docs):\n",
    "    return \"\\n\\n\".join(doc.page_content for doc in docs)\n",
    "\n",
    "\n",
    "def crear_instrucciones(columnas: list[str]):\n",
    "    texto = \"Format the information as a table with columns for \"\n",
    "    if len(columnas) > 0:\n",
    "        texto += columnas.pop(0)\n",
    "    \n",
    "    for _ in range(len(columnas) -1):\n",
    "        texto += f\", {columnas.pop(0)}\"\n",
    "    \n",
    "    texto += f\"and {columnas.pop(0)}.\"\n",
    "\n",
    "    texto += \" Your response should be a table\"\n",
    "    \n",
    "    return (lambda *args: texto)"
   ]
  },
  {
   "cell_type": "markdown",
   "metadata": {},
   "source": [
    "## Haciendo consultas"
   ]
  },
  {
   "cell_type": "code",
   "execution_count": 1,
   "metadata": {},
   "outputs": [
    {
     "ename": "NameError",
     "evalue": "name 'obtener_miniconsultas' is not defined",
     "output_type": "error",
     "traceback": [
      "\u001b[1;31m---------------------------------------------------------------------------\u001b[0m",
      "\u001b[1;31mNameError\u001b[0m                                 Traceback (most recent call last)",
      "Cell \u001b[1;32mIn[1], line 3\u001b[0m\n\u001b[0;32m      1\u001b[0m consulta_sql \u001b[38;5;241m=\u001b[39m \u001b[38;5;124m'''\u001b[39m\u001b[38;5;124mSELECT T2.Language FROM country AS T1 JOIN countrylanguage AS T2 ON T1.Code = T2.CountryCode WHERE T1.HeadOfState = \u001b[39m\u001b[38;5;124m\"\u001b[39m\u001b[38;5;124mBeatrix\u001b[39m\u001b[38;5;124m\"\u001b[39m\u001b[38;5;124m AND T2.IsOfficial = \u001b[39m\u001b[38;5;124m\"\u001b[39m\u001b[38;5;124mT\u001b[39m\u001b[38;5;124m\"\u001b[39m\u001b[38;5;124m'''\u001b[39m\n\u001b[1;32m----> 3\u001b[0m lista_miniconsulta \u001b[38;5;241m=\u001b[39m \u001b[43mobtener_miniconsultas\u001b[49m(consulta_sql)[\u001b[38;5;124m'\u001b[39m\u001b[38;5;124mindependientes\u001b[39m\u001b[38;5;124m'\u001b[39m]\n\u001b[0;32m      5\u001b[0m \u001b[38;5;28;01mfor\u001b[39;00m miniconsulta \u001b[38;5;129;01min\u001b[39;00m lista_miniconsulta:\n\u001b[0;32m      6\u001b[0m     traduccion, _, _ \u001b[38;5;241m=\u001b[39m miniconsulta\u001b[38;5;241m.\u001b[39mcrear_prompt()\n",
      "\u001b[1;31mNameError\u001b[0m: name 'obtener_miniconsultas' is not defined"
     ]
    }
   ],
   "source": [
    "consulta_sql = '''SELECT T2.Language FROM country AS T1 JOIN countrylanguage AS T2 ON T1.Code = T2.CountryCode WHERE T1.HeadOfState = \"Beatrix\" AND T2.IsOfficial = \"T\"'''\n",
    "    \n",
    "lista_miniconsulta = obtener_miniconsultas(consulta_sql)['independientes']\n",
    "\n",
    "for miniconsulta in lista_miniconsulta:\n",
    "    traduccion, _, _ = miniconsulta.crear_prompt()\n",
    "    miniconsulta.ejecutar()\n",
    "    print(\"################################################\")\n",
    "    print(f\"Pregunta: {traduccion}\")\n",
    "    print(\"Respuesta: \")\n",
    "    print(miniconsulta.resultado)\n",
    "\n",
    "    "
   ]
  }
 ],
 "metadata": {
  "kernelspec": {
   "display_name": "evariste-env",
   "language": "python",
   "name": "python3"
  },
  "language_info": {
   "codemirror_mode": {
    "name": "ipython",
    "version": 3
   },
   "file_extension": ".py",
   "mimetype": "text/x-python",
   "name": "python",
   "nbconvert_exporter": "python",
   "pygments_lexer": "ipython3",
   "version": "3.10.14"
  }
 },
 "nbformat": 4,
 "nbformat_minor": 2
}
