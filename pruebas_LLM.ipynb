{
 "cells": [
  {
   "cell_type": "markdown",
   "metadata": {},
   "source": [
    "# Librerias necesarias"
   ]
  },
  {
   "cell_type": "code",
   "execution_count": 1,
   "metadata": {},
   "outputs": [],
   "source": [
    "from langchain_core.runnables import RunnablePassthrough\n",
    "from langchain_core.prompts import ChatPromptTemplate\n",
    "from langchain_community.llms import Ollama\n",
    "from traduccion_sql_ln import *\n",
    "from parser_SQL import *\n",
    "from embeddings import *\n",
    "import mdpd"
   ]
  },
  {
   "cell_type": "markdown",
   "metadata": {},
   "source": [
    "# Configuración inicial"
   ]
  },
  {
   "cell_type": "markdown",
   "metadata": {},
   "source": [
    "## Configuración embeddins"
   ]
  },
  {
   "cell_type": "code",
   "execution_count": 2,
   "metadata": {},
   "outputs": [
    {
     "name": "stderr",
     "output_type": "stream",
     "text": [
      "c:\\Users\\PC\\miniconda3\\envs\\evariste-env\\lib\\site-packages\\sentence_transformers\\cross_encoder\\CrossEncoder.py:11: TqdmWarning: IProgress not found. Please update jupyter and ipywidgets. See https://ipywidgets.readthedocs.io/en/stable/user_install.html\n",
      "  from tqdm.autonotebook import tqdm, trange\n",
      "c:\\Users\\PC\\miniconda3\\envs\\evariste-env\\lib\\site-packages\\huggingface_hub\\file_download.py:1132: FutureWarning: `resume_download` is deprecated and will be removed in version 1.0.0. Downloads always resume when possible. If you want to force a new download, use `force_download=True`.\n",
      "  warnings.warn(\n"
     ]
    }
   ],
   "source": [
    "modelPath = \"thenlper/gte-large\"\n",
    "\n",
    "model_kwargs = {'device':'cuda'}\n",
    "\n",
    "encode_kwargs = {'normalize_embeddings': False}\n",
    "\n",
    "embeddings = HuggingFaceEmbeddings(\n",
    "    model_name=modelPath,     # Provide the pre-trained model's path\n",
    "    model_kwargs=model_kwargs, # Pass the model configuration options\n",
    "    encode_kwargs=encode_kwargs # Pass the encoding options\n",
    ")"
   ]
  },
  {
   "cell_type": "code",
   "execution_count": 3,
   "metadata": {},
   "outputs": [],
   "source": [
    "db = cargar_embeddings('emmbeddings_db', 'indices_paises_wikis', embeddings)"
   ]
  },
  {
   "cell_type": "markdown",
   "metadata": {},
   "source": [
    "## Configuración LLM"
   ]
  },
  {
   "cell_type": "code",
   "execution_count": 4,
   "metadata": {},
   "outputs": [],
   "source": [
    "retriever = db.as_retriever()\n",
    "\n",
    "ollama = Ollama(\n",
    "    base_url='http://localhost:3030',\n",
    "    model=\"llama2-uncensored\",\n",
    "    num_ctx=4096,\n",
    "    temperature = 0.2\n",
    ")"
   ]
  },
  {
   "cell_type": "markdown",
   "metadata": {},
   "source": [
    "# Preparación para hacer las preguntas"
   ]
  },
  {
   "cell_type": "code",
   "execution_count": 5,
   "metadata": {},
   "outputs": [],
   "source": [
    "# Configuraciones para hacer las preguntas\n",
    "system_prompt=(\"You are a highly intelligent question answering bot. \"\n",
    "               \"You will answer concisely. \"\n",
    "               \"Use only the given context to answer the question. \"\n",
    "               \"Context: {context}\"\n",
    "               \"\\n{format_instructions}\")\n",
    "\n",
    "prompt = ChatPromptTemplate.from_messages(\n",
    "    [\n",
    "        (\"system\", system_prompt),\n",
    "        (\"human\", \"In the next table there are the answer of the question\\n{question}\"),\n",
    "    ],\n",
    ")\n",
    "\n",
    "def format_docs(docs):\n",
    "    text = \"\\n\\n\".join(doc.page_content for doc in docs)\n",
    "    print(\"$$$$$$$$$$$$$$$$$$$$$$$$$$$$$$$$$$$$$$$$$$$$$$$$$$$$$$$$$$$\")\n",
    "    for doc in docs:\n",
    "        print(\"!!!!!!!!!!!!!!!!!!!!!!!!!!!!!!!!!!\")\n",
    "        print(doc.metadata['source'])\n",
    "        print(\"!!!!!!!!!!!!!!!!!!!!!!!!!!!!!!!!!!\")\n",
    "        print(doc.page_content)\n",
    "    print(\"$$$$$$$$$$$$$$$$$$$$$$$$$$$$$$$$$$$$$$$$$$$$$$$$$$$$$$$$$$$\")\n",
    "    return text\n",
    "\n",
    "def crear_instrucciones(columnas: list[str]):\n",
    "    texto = \"Instructions: \\n\"\n",
    "    texto = \"Format the information as a table with columns for \"\n",
    "    \n",
    "    if len(columnas) == 1:\n",
    "        texto += columnas[0]\n",
    "    elif len(columnas) > 1:\n",
    "        texto += \", \".join(columnas[:-1]) + f\" and {columnas[-1]}\"\n",
    "            \n",
    "    texto += \" Your response should bein CSV format\\n\"\n",
    "\n",
    "    texto += \"If your answer is a number like millions or thousands, return the always all its digits using the format used in America. \\n\"\n",
    "    texto += \"If I ask you a question that is rooted in truth, you will give you the answer.\\n\"\n",
    "    texto += \"If I ask you a question that is nonsense, trickery, or has no clear answer, you will respond with 'Unknown'. \"\n",
    "    \n",
    "    return (lambda *args: texto)\n",
    "\n",
    "def crear_ejemplos():\n",
    "    texto = \"Examples: \\n\"\n",
    "    fewshot_chatgpt = [\n",
    "                        ['What is human life expectancy in the United States?', '78.'],\n",
    "                        ['Who was president of the United States in 1955?', 'Dwight D. Eisenhower.'],\n",
    "                        ['Which party was founded by Gramsci?', 'Comunista.'],\n",
    "                        ['What is the capital of France?', 'Paris.'],\n",
    "                        ['What is a continent starting with letter O?', 'Oceania.'],\n",
    "                        ['Where were the 1992 Olympics held?', 'Barcelona.'],\n",
    "                        ['How many squigs are in a bonk?', 'Unknown'],\n",
    "                        ['What is the population of Venezuela: 28,300,000']]\n",
    "    return (lambda *args: texto)\n",
    "\n",
    "def hacer_consulta(traduccion: str, columnas: list[str]):\n",
    "\n",
    "    columnas_traduccion = type(columnas)(columnas)\n",
    "    print(f\"Procesando la pregunta:\\n\\t{traduccion}\")\n",
    "    rag_chain = (\n",
    "        {\"context\": retriever | format_docs, \n",
    "        \"question\": RunnablePassthrough(),\n",
    "        \"format_instructions\": crear_instrucciones(columnas_traduccion),\n",
    "        \"examples\": crear_ejemplos()}\n",
    "        | prompt\n",
    "        | ollama\n",
    "    )\n",
    "\n",
    "    # return rag_chain.invoke(traduccion)\n",
    "    resultado_limpio = rag_chain.invoke(traduccion)\n",
    "    print(\"Resultado sin procesar: \")\n",
    "    print(resultado_limpio)\n",
    "    print(\"############################################################\")\n",
    "    df = mdpd.from_md(resultado_limpio)\n",
    "    if len(df) != 0:\n",
    "        if len(df.columns) > len(columnas):\n",
    "            # Hacer una busqueda de similitud por los nombres\n",
    "            df.columns = columnas + list(df.columns)[len(columnas):]\n",
    "        elif len(df.columns) < len(columnas):\n",
    "            # Hacer una busqueda de similitud por los nombres\n",
    "            df.columns = columnas[:len(df.columns)]\n",
    "        else:\n",
    "            df.columns = columnas\n",
    "\n",
    "    return df"
   ]
  },
  {
   "cell_type": "code",
   "execution_count": 6,
   "metadata": {},
   "outputs": [
    {
     "name": "stdout",
     "output_type": "stream",
     "text": [
      "Procesando la pregunta:\n",
      "\tGive me the area of the country where countryName is \"Spain\"\n"
     ]
    },
    {
     "name": "stderr",
     "output_type": "stream",
     "text": [
      "c:\\Users\\PC\\miniconda3\\envs\\evariste-env\\lib\\site-packages\\transformers\\models\\bert\\modeling_bert.py:435: UserWarning: 1Torch was not compiled with flash attention. (Triggered internally at C:\\cb\\pytorch_1000000000000\\work\\aten\\src\\ATen\\native\\transformers\\cuda\\sdp_utils.cpp:455.)\n",
      "  attn_output = torch.nn.functional.scaled_dot_product_attention(\n"
     ]
    },
    {
     "name": "stdout",
     "output_type": "stream",
     "text": [
      "$$$$$$$$$$$$$$$$$$$$$$$$$$$$$$$$$$$$$$$$$$$$$$$$$$$$$$$$$$$\n",
      "!!!!!!!!!!!!!!!!!!!!!!!!!!!!!!!!!!\n",
      "resultados/paises_wikivoyage/Spain.txt\n",
      "!!!!!!!!!!!!!!!!!!!!!!!!!!!!!!!!!!\n",
      "\n",
      " Spain (Spanish: España) is famous for its friendly inhabitants, relaxed lifestyle, its cuisine, vibrant nightlife, and world-famous folklore and festivities, and its history as the core of the vast Spanish Empire. It has the second-largest number of UNESCO World Heritage Sites after Italy and the largest number of World Heritage Cities.\n",
      " With great beaches, mountains, campsites, ski resorts, superb weather, varied and fun nightlife, many cultural regions and historic cities, Spain is a popular tourist destination in Europe for any kind of trip.\n",
      " \n",
      " Regions[edit] \n",
      " Spain is a diverse country with contrasting regions that have different languages and unique historical, political and cultural traditions. Because of this, Spain is divided into 17 autonomous communities (comunidades autónomas), plus two autonomous cities. As a result, some even describe Spain as a \"federation without federalism\". Some of the autonomous communities—notably the ones which have other official languages alongside Spanish—have been recognised as \"historical nationalities\" that have a unique historical identity. These include the Basque Country, Catalonia, Galicia, the Valencian region, Andalusia, the Balearic Islands, Aragon and the Canary Islands.\n",
      " Spain's many regions can be grouped as follows:\n",
      " Regions of Spain \n",
      "\n",
      "\n",
      "\n",
      "\n",
      "\n",
      "\n",
      " \n",
      " Cities[edit] \n",
      "  Madrid Spain has hundreds of interesting cities. Here are nine of the most popular:\n",
      " 40.383333-3.7166671 Madrid — the vibrant capital, with fantastic museums, interesting architecture, great food and nightlife 41.3833332.1833332 Barcelona — Spain's second city, full of modernist buildings, a vibrant cultural life, festivals, and beaches 43.256944-2.9236113 Bilbao — former industrial city, home to the Guggenheim Museum and other cultural features; main Basque city 37.883333-4.7666674 Córdoba — Also called Cordova, The Grand Mosque ('Mezquita') of Cordoba is one of the world's finest buildings 37.178056-3.6008335 Granada — stunning city in the south, surrounded by snow-capped mountains of the Sierra Nevada, home of La Alhambra 36.719444-4.426 Málaga — the heart of flamenco with the beaches of the Costa del Sol 37.377222-5.9869447\n",
      "!!!!!!!!!!!!!!!!!!!!!!!!!!!!!!!!!!\n",
      "resultados/paises_wikipedia/Spain.txt\n",
      "!!!!!!!!!!!!!!!!!!!!!!!!!!!!!!!!!!\n",
      "Spain is a country in Southern Europe. It is in the Iberian Peninsula. Spain has borders with France, Portugal, Andorra and Gibraltar. Ceuta and Melilla border with Morocco in North Africa. In Spain's northeast side are the Pyrenees mountains.\n",
      " The people of Spain are called Spaniards. They speak Castilian or Spanish (in Spanish, \"Castellano\", from Castilla, or \"Español\").  They speak other languages in some parts of the country.  They are Catalan, Basque, and Asturian, Galician, Leonese, Aragonese, Aranese Occitan  and even Portuguese. The religion of about 56% of the population in Spain is Roman Catholic.\n",
      " Since 1975, Spain has had a constitutional monarchy. The King of Spain is Felipe VI; he only does what the constitution allows him to.  The parliament is called \"Las Cortes Generales,\" and has two bodies: \"El Congreso\" (The Congress) and \"El Senado\" (The Senate) and it is chosen by the Spanish people by voting.  The Prime minister is Pedro Sánchez.  The government and the king's palace are in Madrid, the capital of Spain.\n",
      " Spain has more than five hundred thousand square kilometres of land.  It is smaller than France, but it is bigger than Germany. Almost fifty million people live in Spain. Spain is divided into 17 autonomous communities (this means that they can decide upon some affairs themselves). Each community has its own government.\n",
      " Spain is known for flamenco which is usually performed by the Caló.\n",
      " Spain was a predominant Colonial Empire and had colonies throughout South America, Asia, Oceania and Africa with a large hold of European lands.\n",
      " Spain was under a dictatorship by \n",
      "Francisco Franco from 1939 to 1974.\n",
      " \n",
      " History of Spain[change | change source] \n",
      " History of Spain \n",
      " Early history[change | change source] \n",
      "  Lady of Elche People have lived in Spain since the Stone Age.  Later, the Roman Empire controlled Spain for about five hundred years; then as the Roman Empire broke up, groups of Germanic people including Visigoths moved in and took control.\n",
      " \n",
      " Muslim rule[change | change source] \n",
      " In 711, many parts of the Iberian Peninsula became under the control of the Muslim Umayyad Caliphate. They called the land Al-Andalus;\n",
      "!!!!!!!!!!!!!!!!!!!!!!!!!!!!!!!!!!\n",
      "resultados/paises_wikipedia/Spain.txt\n",
      "!!!!!!!!!!!!!!!!!!!!!!!!!!!!!!!!!!\n",
      " islands of the Atlantic (it is the third largest volcano in the world from its base). In the north there is a range of mountains called Los Picos de Europa (The European Peaks). Here it is very cold in winter with a lot of snow but with gentle warm summers.\n",
      " In the south-east of the country is a range of mountains called La Sierra Nevada (The Snowy Mountains). This range of mountains contains the highest mountain in mainland Spain, Mulacen, at 2952 metres. La Sierra Nevada is very popular in winter for winter sports, especially skiing. Snow remains on its peaks throughout the year.  The south coast, has a warm and temperate climate, not very hot or very cold.  Since Spain is in the south of Europe, it is very sunny.  Many people from Northern Europe take their vacations in Spain, enjoying its beaches and cities.\n",
      " Spain has a border with Portugal in the west and borders with France and Andorra in the North. In the south, it borders Gibraltar, a British territory. The Spanish territories of Ceuta and Melilla are in North Africa and border onto Morocco.\n",
      " \n",
      " Regions[change | change source] \n",
      " Spain is divided into Autonomous Communities, which means that they have their own regional governments. They are Andalucía (capital city Seville), Aragon (capital city Zaragoza), Asturias (capital city Oviedo), Balearic Islands (capital city Palma de Mallorca), Basque Country (capital city Vitoria), Canary Islands (capital cities Santa Cruz de Tenerife and Las Palmas), Cantabria (capital city Santander), Castilla-La Mancha (capital city Toledo), Castile and Leon (capital city Valladolid), Catalonia (capital city Barcelona), Extremadura (capital city Merida), Galicia (capital city Santiago de Compostela), La Rioja (capital city Logrono), Madrid Community (capital city Madrid), Murcia Community (capital city Murcia), Navarra (capital city Pamplona) and the Valencia Community (capital city Valencia).\n",
      " \n",
      " Spain, Tapas[change | change source] \n",
      " \n",
      "\t\t\t\n",
      "\t\t\tPalo Santo Cafe, Aranda de Duero, Spain, Jamón serrano\n",
      "\t\t \n",
      "\t\t\t\n",
      "\t\t\tJamón serrano served at Palo Santo Cafe, Aranda de Duero\n",
      "\t\t \n",
      "\t\t\n",
      "!!!!!!!!!!!!!!!!!!!!!!!!!!!!!!!!!!\n",
      "resultados/paises_wikivoyage/Spain.txt\n",
      "!!!!!!!!!!!!!!!!!!!!!!!!!!!!!!!!!!\n",
      "amenco with the beaches of the Costa del Sol 37.377222-5.9869447 Seville (Spanish: Sevilla) — a beautiful, verdant city, and home to the world's third largest cathedral 39.466667-0.3758 Valencia — paella was invented here, has a very nice beach 41.65-0.8833339 Zaragoza — also called Saragossa. The fifth largest city of Spain that held the World Expo in 2008 \n",
      " Other destinations[edit] \n",
      "  Segovia 38.354-0.4081 Costa Blanca — 200 km of white coast with plenty of beaches and small villages 42.02283.224492 Costa Brava — the rugged coast with plenty of seaside resorts 36.79-4.483 Costa del Sol — the sunny coast in the south of the country 27.966667-15.64 Gran Canaria — known as \"a continent in miniature\" due to its many different climates and landscapes 38.981.435 Ibiza — a Balearic island; one of the best places for clubbing, raving, and DJs in the entire world 39.6166672.9833336 Mallorca — the largest island of the Balears, full of amazing beaches and great nightlife 37.05-3.37 Sierra Nevada — the highest mountains on the Iberian Peninsula, great for walking and skiing 28.268611-16.6055568 Tenerife — offers lush forests, exotic fauna and flora, deserts, mountains, volcanoes, beautiful coastlines and spectacular beaches \n",
      " Understand[edit] \n",
      " Spain shares the Iberian Peninsula with Andorra, Gibraltar, and Portugal. \n",
      " A country of large geographic and cultural diversity, Spain may come as a surprise to those who only know of its reputation for great beach holidays and almost endless sunshine. There is everything from lush meadows and snowy mountains to huge marshes and deserts in the south east. While summer is the peak season, those who wish to avoid the crowds should consider visiting in the winter as not only is it normally mild and sunny, but attractions such as the Alhambra Palace in Granada and La Gran Mezquita in Cordoba will not be overcrowded. However the ski resorts of Sierra Nevada do get very crowded. The Mediterranean climate that predominates in Southern and Central Spain is noted for its dry summers and (somewhat) wet(ter) winters\n",
      "$$$$$$$$$$$$$$$$$$$$$$$$$$$$$$$$$$$$$$$$$$$$$$$$$$$$$$$$$$$\n",
      "Resultado sin procesar: \n",
      "| Area |\n",
      "|-------|\n",
      "| Spain |\n",
      "############################################################\n",
      "    area\n",
      "0  Spain\n"
     ]
    }
   ],
   "source": [
    "respuesta = hacer_consulta('Give me the area of the country where countryName is \"Spain\"', [\"area\"])\n",
    "print(respuesta)"
   ]
  },
  {
   "cell_type": "code",
   "execution_count": null,
   "metadata": {},
   "outputs": [],
   "source": [
    "prompt_str = \"You are a highly intelligent question answering bot. If I ask you a question that is rooted in truth, you will give you the answer. If I ask you a question that is nonsense, trickery, or has no clear answer, you will respond with 'Unknown'. You will answer concisely. Use the given context as a support to answer the question if you can't answer the question.Context:  with almost 3,000 delegates. The NPC is often described as a \\\"rubber stamping\\\" body; it vetoed no bills and members have complained about their lack of power.\\n China largely follows a centralized system of government, and is administratively divided into 22 provinces, 5 autonomous regions and 4 directly controlled municipalities. Provincial governments have limited powers in their internal and economic affairs. Autonomous regions have more autonomy than provinces, such as the right to declare additional official languages and holidays in additional to Mandarin and other national holidays. Directly controlled municipalities are cities that are not part of any province, and instead report directly to the central government in Beijing. Often having different names, prefectures ((地级)市/自治州/地区), counties (县/(县级)市/区) and townships (乡/镇/街道) are one by one subordinated.\\n The Special Administrative Regions (SAR), Hong Kong and Macau, in principle run themselves as separate jurisdictions, with only foreign policy and defense being controlled by Beijing, though in practice this autonomy is restricted. There is an active independence movement in Hong Kong, but the imposition of the National Security Law in 2020 has largely driven the movement underground.\\n The PRC considers Taiwan to be one of its provinces, but Taiwan's government (the Republic of China) has been completely separate from the mainland Chinese one since 1949. Both governments on paper continue to claim to be the sole legitimate government for all of China. There is significant support for formal independence in Taiwan, but China's government has repeatedly threatened to launch a military attack on Taiwan if the island declares itself independent. See Chinese provinces and regions for more detail.\\n \\n People and customs[edit] \\n Minority cultures of China With 1.4 billion inhabitants, China is home to nearly a fifth of the world's population. It is a diverse place with large variations in culture, language, customs and economic levels from region to region, and often strong distinct cultural and regional identities as well.\\n The economic landscape is particularly diverse. The major cities such as Beijing, Guangzhou and Shanghai are modern and comparatively wealthy. However, about 50% of Chinese still live in rural areas even though only 10% of China's land is arable. Hundreds of millions of rural residents still farm with manual labor or draft animals. Some 200 to 300 million former peasants have migrated to townships and cities in\\n\\n that around major holidays, places may be closed when they're usually open or open when they would usually be closed.\\n \\n Time zones[edit] \\n Despite geographically spanning five time zones, all of China officially follows Beijing Time (UTC+8). However, in the restive province of Xinjiang, while the official time is Beijing Time, some ethnic Uyghurs use the UTC+6 time zone as a sign of defiance against Beijing.\\n \\n Read[edit] \\n Wild Swans by Jung Chang (ISBN 0007176155) - a biography of three generations, from the warlord days to the end of Mao's era, illustrating life under China's version of nationalism and communism. This book is banned in China. The Search for Modern China by Jonathan Spence - a standard history book on modern China from the late Ming to the current period. \\n See also[edit] \\n \\n Talk[edit] \\n Chinese phrasebook  The official language of China is Standard Mandarin, known in Chinese as Pǔtōnghuà (普通话, \\\"common speech\\\"), which is based on the Beijing dialect; Chinese in general is known as Zhōngwén (中文). Standard Mandarin is the main language for government and media, as well as the national lingua franca. While the official language is standardized, local pronunciation of Mandarin does vary by region. Unless otherwise noted, all terms, spellings and pronunciations in this guide are in Standard Mandarin. While national media is broadcast in Mandarin, each area often has its own local media that broadcasts in the local language.\\n Chinese is written using Chinese characters (汉字, hànzì, lit. \\\"Han characters\\\"). Unlike an alphabet that represents individual sounds without any inherent meaning, each Chinese character represents a meaningful syllable: a specific word or part of a word. Although they look impenetrable at first, there is some method to the madness: most characters are composed from base components combined with other characters (often giving clues to both pronunciation and general meaning). The same characters are used in Japan and Korea with usually similar meanings, albeit different pronunciations. However, since the 1950s mainland China has used simplified characters, such as 龟 instead of 龜, in an attempt to eradicate illiteracy. Hong Kong, Macau, Taiwan, and many overseas Chinese still use the traditional characters, which are also sometimes used on\\n\\n\\n China (disambiguation) China (中国; Zhōngguó) is one of the world's oldest civilizations. Its long and rich history is present in people's thinking and values, and in the art, architecture, and feats of engineering that remain from dynasties past. In addition to its bustling and futuristic cities like Shanghai and Shenzhen, China boasts an incredible array of breathtaking natural wonders like the karst landscapes of Guilin and granite peaks of Huangshan that have inspired painters and poets for generations.\\n After a tumultuous 19th and 20th centuries, China has dramatically re-emerged as an economic powerhouse. Its rapid development has been paralleled by an ascent onto the international stage. Of course there are growing pains when high-rises and factories surge up to dwarf centuries-old pagodas, but there's also a strong sense of enthusiasm and optimism about what the future holds. If you visit now, you can see the relics of millennia of history and experience the signs of further transformations in progress.\\n \\n Regions[edit] \\n China's hierarchy of administrative divisions has 22 provinces (省 shěng) which tend to have their own cultural identities, and 5 autonomous regions (自治区 zìzhìqū), each with a designated minority ethnic group. These along with four municipalities (直辖市 zhíxiáshì) make up what is known as mainland China (中国大陆 Zhōngguó dàlù).\\n For the purposes of Wikivoyage, these provinces are grouped into the following regions:\\n Regions of China \\n\\n\\n\\n\\n\\n\\n \\n Cities[edit] \\n  Beijing Here are nine of China's most interesting cities for travelers. Others are listed in region articles.\\n 39.90403116.4075261 Beijing (北京) — the capital, cultural center, and home of the Forbidden City, the Summer Palace, and other important historical sites. 30.66104.0633332 Chengdu (成都) — capital of Sichuan province, known for tingly-spicy food, and home of the giant pandas. 23.13113.263 Guangzhou (广州) — one of China's most prosperous and liberal cities. Center of Cantonese culture and cuisine .  Guilin 30.25120.16754\\n\\n Center of Cantonese culture and cuisine .  Guilin 30.25120.16754 Hangzhou (杭州) — built around West Lake, a  UNESCO World Heritage Site, and southern terminus of the Grand Canal. 45.75126.6333335 Harbin (哈尔滨) — capital of Heilongjiang, which hosts the Ice and Snow Sculpture Festival during its bitterly cold winters. 39.4575.9833336 Kashgar (Chinese: 喀什, Uyghur: قەشقەر) — center of Uyghur culture, with a beautiful and well-preserved old town, and the famous Id Kah Mosque. 32.060833118.7788897 Nanjing (南京) — the capital during the early Ming Dynasty and Republic of China era, a renowned historical and cultural city with many historic sites. 31.166667121.4666678 Shanghai (上海) — China's largest city and main commercial centre, famous for its beautiful pre-World War II French, British and American colonial architecture, ultramodern 21st-century skyscrapers, and many shopping opportunities. 34.261111108.9422229 Xi'an (西安) — the oldest city and ancient capital of China, terminus of the ancient Silk Road, and home of the terracotta warriors. You can travel to many of these cities using the new fast trains. In particular, the Hangzhou - Shanghai - Suzhou - Nanjing line is a convenient way to see these historic areas.\\n \\n Other destinations[edit] \\n Some of the most famous tourist attractions in China are:\\n 40.416667116.0833331 Great Wall of China (万里长城) — longer than 8,000 km, this ancient wall is the most iconic landmark of China. 20.03342110.323982 Hainan (海南) — a tropical paradise island undergoing heavy tourism-oriented development. 33.2103.93 Jiuzhaigou Nature Reserve (九寨沟) — known for its many multi-level waterfalls, colourful lakes and as the home of the giant pandas. 29.5854103.757554 Leshan — most famous for its huge riverside cliff-car\\nHuman: Answer the query.\\nFormat the information as a table with columns for name Your response should be a table Your response should be a table\\nWhich unique cities are in Asian countries where Chinese is the official language ?\""
   ]
  },
  {
   "cell_type": "code",
   "execution_count": null,
   "metadata": {},
   "outputs": [],
   "source": [
    "import tiktoken\n",
    "encoding = tiktoken.get_encoding(\"cl100k_base\")\n",
    "num_tokens = len(encoding.encode(prompt_str))\n",
    "print(num_tokens)"
   ]
  },
  {
   "cell_type": "markdown",
   "metadata": {},
   "source": [
    "# Haciendo consultas"
   ]
  },
  {
   "cell_type": "code",
   "execution_count": null,
   "metadata": {},
   "outputs": [],
   "source": [
    "consulta_sql = '''SELECT T2.Language FROM country AS T1 JOIN countrylanguage AS T2 ON T1.Code = T2.CountryCode WHERE T1.HeadOfState = \"Beatrix\" AND T2.IsOfficial = \"T\"'''\n",
    "# consulta_sql = '''select distinct t3.name from country as t1 join countrylanguage as t2 on t1.code = t2.countrycode join city as t3 on t1.code = t3.countrycode where t2.isofficial = 't' and t2.language = 'chinese' and t1.continent = \"asia\"'''  \n",
    "lista_miniconsulta = obtener_miniconsultas(consulta_sql)['independientes']\n",
    "\n",
    "for miniconsulta in lista_miniconsulta:\n",
    "    traduccion, _, _ = miniconsulta.crear_prompt()\n",
    "    miniconsulta.ejecutar()\n",
    "    print(\"################################################\")\n",
    "    print(f\"Pregunta: {traduccion}\")\n",
    "    print(\"Respuesta: \")\n",
    "    df = miniconsulta.resultado\n",
    "    print(df)\n",
    "\n",
    "\n",
    "    "
   ]
  },
  {
   "cell_type": "code",
   "execution_count": null,
   "metadata": {},
   "outputs": [],
   "source": [
    "import pandas as pd\n",
    "\n",
    "a = pd.DataFrame({\n",
    "  \"A\": [2, 1],\n",
    "  \"B\": [4, 3]\n",
    "})\n",
    "\n",
    "a['position'] = a.index\n",
    "\n",
    "b = pd.DataFrame({\n",
    "  \"C\": [2, 6],\n",
    "  \"D\": [4, 8]\n",
    "})\n",
    "\n",
    "resultado = a.merge(b,left_on=['A', 'B'], right_on=['C','D'])\n",
    "\n",
    "resultado.drop(['position'], axis=1)"
   ]
  }
 ],
 "metadata": {
  "kernelspec": {
   "display_name": "evariste-env",
   "language": "python",
   "name": "python3"
  },
  "language_info": {
   "codemirror_mode": {
    "name": "ipython",
    "version": 3
   },
   "file_extension": ".py",
   "mimetype": "text/x-python",
   "name": "python",
   "nbconvert_exporter": "python",
   "pygments_lexer": "ipython3",
   "version": "3.10.14"
  }
 },
 "nbformat": 4,
 "nbformat_minor": 2
}
