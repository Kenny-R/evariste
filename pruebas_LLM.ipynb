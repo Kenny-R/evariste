{
 "cells": [
  {
   "cell_type": "markdown",
   "metadata": {},
   "source": [
    "# Librerias necesarias"
   ]
  },
  {
   "cell_type": "code",
   "execution_count": 7,
   "metadata": {},
   "outputs": [],
   "source": [
    "from langchain_core.output_parsers import StrOutputParser\n",
    "from langchain_core.runnables import RunnablePassthrough\n",
    "from langchain_core.prompts import ChatPromptTemplate\n",
    "from langchain_community.llms import Ollama\n",
    "from traduccion_sql_ln import *\n",
    "from parser_SQL import *\n",
    "from embeddings import *\n"
   ]
  },
  {
   "cell_type": "markdown",
   "metadata": {},
   "source": [
    "# Configuración inicial"
   ]
  },
  {
   "cell_type": "markdown",
   "metadata": {},
   "source": [
    "## Configuración embeddins"
   ]
  },
  {
   "cell_type": "code",
   "execution_count": 2,
   "metadata": {},
   "outputs": [
    {
     "name": "stderr",
     "output_type": "stream",
     "text": [
      "c:\\Users\\PC\\miniconda3\\envs\\evariste-env\\lib\\site-packages\\sentence_transformers\\cross_encoder\\CrossEncoder.py:11: TqdmWarning: IProgress not found. Please update jupyter and ipywidgets. See https://ipywidgets.readthedocs.io/en/stable/user_install.html\n",
      "  from tqdm.autonotebook import tqdm, trange\n",
      "c:\\Users\\PC\\miniconda3\\envs\\evariste-env\\lib\\site-packages\\huggingface_hub\\file_download.py:1132: FutureWarning: `resume_download` is deprecated and will be removed in version 1.0.0. Downloads always resume when possible. If you want to force a new download, use `force_download=True`.\n",
      "  warnings.warn(\n"
     ]
    }
   ],
   "source": [
    "modelPath = \"thenlper/gte-large\"\n",
    "\n",
    "model_kwargs = {'device':'cuda'}\n",
    "\n",
    "encode_kwargs = {'normalize_embeddings': False}\n",
    "\n",
    "embeddings = HuggingFaceEmbeddings(\n",
    "    model_name=modelPath,     # Provide the pre-trained model's path\n",
    "    model_kwargs=model_kwargs, # Pass the model configuration options\n",
    "    encode_kwargs=encode_kwargs # Pass the encoding options\n",
    ")"
   ]
  },
  {
   "cell_type": "code",
   "execution_count": 3,
   "metadata": {},
   "outputs": [],
   "source": [
    "db = cargar_embeddings('emmbeddings_db', 'indices_paises_wikis', embeddings)"
   ]
  },
  {
   "cell_type": "markdown",
   "metadata": {},
   "source": [
    "## Configuración LLM"
   ]
  },
  {
   "cell_type": "code",
   "execution_count": 4,
   "metadata": {},
   "outputs": [],
   "source": [
    "retriever = db.as_retriever()\n",
    "\n",
    "ollama = Ollama(\n",
    "    base_url='http://localhost:3030',\n",
    "    model=\"llama2-uncensored\"\n",
    ")"
   ]
  },
  {
   "cell_type": "markdown",
   "metadata": {},
   "source": [
    "# Preparación para hacer las preguntas"
   ]
  },
  {
   "cell_type": "code",
   "execution_count": 5,
   "metadata": {},
   "outputs": [],
   "source": [
    "system_prompt=(\"You are a highly intelligent question answering bot. \"\n",
    "               \"If I ask you a question that is rooted in truth, you will give you the answer. \"\n",
    "               \"If I ask you a question that is nonsense, trickery, or has no clear answer, you will respond with 'Unknown'. \"\n",
    "               \"You will answer concisely. \"\n",
    "               \"Use the given context as a support to answer the question if you can't answer the question.\"\n",
    "               \"Context: {context}\")\n",
    "\n",
    "prompt = ChatPromptTemplate.from_messages(\n",
    "    [\n",
    "        (\"system\", system_prompt),\n",
    "        (\"human\", \"Answer the query.\\n{format_instructions}\\n{question}\\n\"),\n",
    "    ],\n",
    ")\n",
    "\n",
    "def format_docs(docs):\n",
    "    return \"\\n\\n\".join(doc.page_content for doc in docs)\n",
    "\n",
    "\n",
    "def crear_instrucciones(columnas: list[str]):\n",
    "    texto = \"Format the information as a table with columns for \"\n",
    "    if len(columnas) > 0:\n",
    "        texto += columnas.pop(0)\n",
    "    \n",
    "    for _ in range(len(columnas) -1):\n",
    "        texto += f\", {columnas.pop(0)}\"\n",
    "    \n",
    "    texto += f\"and {columnas.pop(0)}.\"\n",
    "\n",
    "    texto += \" Your response should be a table\"\n",
    "    \n",
    "    return (lambda *args: texto)"
   ]
  },
  {
   "cell_type": "markdown",
   "metadata": {},
   "source": [
    "## Haciendo consultas"
   ]
  },
  {
   "cell_type": "code",
   "execution_count": 24,
   "metadata": {},
   "outputs": [
    {
     "name": "stdout",
     "output_type": "stream",
     "text": [
      "################################################\n",
      "Pregunta: Give me the Code of the country where HeadOfState is equal to \"Beatrix\"\n",
      "Respuesta: \n",
      "| Country | HeadOfState |\n",
      "| --- | --- |\n",
      "| Netherlands | Beatrix |\n"
     ]
    }
   ],
   "source": [
    "consulta_sql = '''SELECT T2.Language FROM country AS T1 JOIN countrylanguage AS T2 ON T1.Code = T2.CountryCode WHERE T1.HeadOfState = \"Beatrix\" AND T2.IsOfficial = \"T\"'''\n",
    "    \n",
    "lista_miniconsulta = obtener_miniconsultas(consulta_sql)['independientes']\n",
    "\n",
    "for miniconsulta in lista_miniconsulta:\n",
    "    traduccion = traducir_miniconsulta_sql(miniconsulta)\n",
    "    proyecciones = traducir_proyecciones(miniconsulta)\n",
    "    lista_columnas_condiciones = obtener_columnas_condicion(miniconsulta)\n",
    "\n",
    "    \n",
    "    rag_chain = (\n",
    "        {\"context\": retriever | format_docs, \n",
    "        \"question\": RunnablePassthrough(),\n",
    "        \"format_instructions\": crear_instrucciones(proyecciones + lista_columnas_condiciones)}\n",
    "        | prompt\n",
    "        | ollama\n",
    "        | StrOutputParser()\n",
    "    )\n",
    "\n",
    "    print(\"################################################\")\n",
    "    print(f\"Pregunta: {traduccion}\")\n",
    "    print(\"Respuesta: \")\n",
    "    print(rag_chain.invoke(traduccion))\n",
    "\n",
    "    "
   ]
  }
 ],
 "metadata": {
  "kernelspec": {
   "display_name": "evariste-env",
   "language": "python",
   "name": "python3"
  },
  "language_info": {
   "codemirror_mode": {
    "name": "ipython",
    "version": 3
   },
   "file_extension": ".py",
   "mimetype": "text/x-python",
   "name": "python",
   "nbconvert_exporter": "python",
   "pygments_lexer": "ipython3",
   "version": "3.10.14"
  }
 },
 "nbformat": 4,
 "nbformat_minor": 2
}
